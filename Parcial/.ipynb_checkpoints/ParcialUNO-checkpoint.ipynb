{
 "cells": [
  {
   "cell_type": "markdown",
   "id": "98249146",
   "metadata": {},
   "source": [
    "EJERCICIO 3 RESOLUCIÓN"
   ]
  },
  {
   "cell_type": "code",
   "execution_count": 19,
   "id": "ad51ba76",
   "metadata": {},
   "outputs": [],
   "source": [
    "def ordenar(nombres: list, edades: list):\n",
    "    \n",
    "    menor = None\n",
    "    mayor = None\n",
    "    Imenor = []\n",
    "    Imayor = []\n",
    "    indice = 0\n",
    "    menores = []\n",
    "    mayores = []\n",
    "    nombres.append(nombres[0])\n",
    "    edades.append(edades[0])\n",
    "\n",
    "    \n",
    "    for k in edades:\n",
    "        \n",
    "        if menor == None:\n",
    "            menor = k\n",
    "            \n",
    "        else:\n",
    "            \n",
    "            if k <= menor:\n",
    "                \n",
    "                if len(Imenor) != 0 and menor == edades[Imenor[0]]:\n",
    "                    Imenor.append(indice)\n",
    "                    \n",
    "                else:\n",
    "                    Imenor = [indice]\n",
    "                    \n",
    "            elif k == menor:\n",
    "                Imenor.append(indice)\n",
    "        \n",
    "        if mayor == None:\n",
    "            mayor = k    \n",
    "            \n",
    "        else:\n",
    "            \n",
    "            if k >= mayor:\n",
    "                mayor = k\n",
    "                \n",
    "                if len(Imayor) != 0 and mayor == edades[Imayor[0]]:\n",
    "                    Imayor.append(indice)\n",
    "                    \n",
    "                else:\n",
    "                    Imayor = [indice]\n",
    "            \n",
    "        indice += 1\n",
    "        \n",
    "    return  ([nombres[i] for i in Imenor], [nombres[i] for i in Imayor])"
   ]
  },
  {
   "cell_type": "code",
   "execution_count": 20,
   "id": "db3cfba9",
   "metadata": {},
   "outputs": [
    {
     "data": {
      "text/plain": [
       "(['Lucas'], ['Nioby'])"
      ]
     },
     "execution_count": 20,
     "metadata": {},
     "output_type": "execute_result"
    }
   ],
   "source": [
    "nombres = [\"Lucas\", \"Morfeo\", \"Jhon\", \"Trinity\", \"Nioby\"]\n",
    "edades = [1, 45, 35, 41, 1000]\n",
    "\n",
    "ordenar(nombres, edades)"
   ]
  },
  {
   "cell_type": "markdown",
   "id": "22427e20",
   "metadata": {},
   "source": [
    "EJERCICIO 4 RESOLUCIÓN"
   ]
  },
  {
   "cell_type": "markdown",
   "id": "ae0b23e6",
   "metadata": {},
   "source": [
    "Parte A)"
   ]
  },
  {
   "cell_type": "code",
   "execution_count": 29,
   "id": "6125e6ff",
   "metadata": {},
   "outputs": [],
   "source": [
    "validacion = open('datosReales.txt', 'r')\n",
    "resultados = open('resultadosTest.txt', 'r')\n",
    "\n",
    "validacion = validacion.read().split(\" \")\n",
    "resultados = resultados.read().split(\" \")"
   ]
  },
  {
   "cell_type": "code",
   "execution_count": 27,
   "id": "0ea9e49f",
   "metadata": {},
   "outputs": [
    {
     "data": {
      "text/plain": [
       "['0',\n",
       " '1',\n",
       " '1',\n",
       " '1',\n",
       " '1',\n",
       " '1',\n",
       " '1',\n",
       " '0',\n",
       " '1',\n",
       " '1',\n",
       " '1',\n",
       " '0',\n",
       " '1',\n",
       " '1',\n",
       " '0',\n",
       " '0',\n",
       " '1',\n",
       " '1',\n",
       " '0',\n",
       " '1',\n",
       " '0',\n",
       " '0',\n",
       " '0',\n",
       " '1',\n",
       " '1',\n",
       " '1',\n",
       " '1',\n",
       " '0',\n",
       " '0',\n",
       " '1',\n",
       " '0',\n",
       " '0',\n",
       " '0',\n",
       " '0',\n",
       " '1',\n",
       " '1',\n",
       " '1',\n",
       " '1',\n",
       " '0',\n",
       " '0',\n",
       " '1',\n",
       " '0',\n",
       " '1',\n",
       " '0',\n",
       " '0',\n",
       " '0',\n",
       " '1',\n",
       " '0',\n",
       " '0',\n",
       " '0',\n",
       " '1',\n",
       " '0',\n",
       " '1',\n",
       " '1',\n",
       " '1',\n",
       " '1',\n",
       " '1',\n",
       " '0',\n",
       " '1',\n",
       " '0',\n",
       " '0',\n",
       " '1',\n",
       " '0',\n",
       " '0',\n",
       " '1',\n",
       " '1',\n",
       " '1',\n",
       " '0',\n",
       " '0',\n",
       " '0',\n",
       " '1',\n",
       " '0',\n",
       " '0',\n",
       " '1',\n",
       " '0',\n",
       " '0',\n",
       " '1',\n",
       " '0',\n",
       " '1',\n",
       " '0',\n",
       " '1',\n",
       " '1',\n",
       " '0',\n",
       " '1',\n",
       " '1',\n",
       " '1',\n",
       " '1',\n",
       " '0',\n",
       " '1',\n",
       " '1',\n",
       " '1',\n",
       " '0',\n",
       " '0',\n",
       " '0',\n",
       " '1',\n",
       " '0',\n",
       " '0',\n",
       " '1',\n",
       " '1',\n",
       " '1']"
      ]
     },
     "execution_count": 27,
     "metadata": {},
     "output_type": "execute_result"
    }
   ],
   "source": [
    "validacion"
   ]
  },
  {
   "cell_type": "markdown",
   "id": "51dd1f35",
   "metadata": {},
   "source": [
    "Parte B"
   ]
  },
  {
   "cell_type": "code",
   "execution_count": 43,
   "id": "5be2066a",
   "metadata": {},
   "outputs": [],
   "source": [
    "def getCMValues(realValues: list, testValues: list):\n",
    "    \n",
    "    TP = len([r for r, t in zip(realValues, testValues) if t == 1 and r == 1])\n",
    "    \n",
    "    TN = len([r for r, t in zip(realValues, testValues) if t == 0 and r == 0])\n",
    "    \n",
    "    FP = len([r for r, t in zip(realValues, testValues) if t == 1 and r == 0])\n",
    "    \n",
    "    FN = len([r for r, t in zip(realValues, testValues) if t == 0 and r == 1])\n",
    "    \n",
    "    return (TP, FP, TN, FN)"
   ]
  },
  {
   "cell_type": "code",
   "execution_count": 56,
   "id": "4844aab2",
   "metadata": {},
   "outputs": [
    {
     "name": "stdout",
     "output_type": "stream",
     "text": [
      "(34, 26, 20, 20)\n"
     ]
    }
   ],
   "source": [
    "validacion = [int(i) for i in validacion]\n",
    "resultados = [int(i) for i in resultados]\n",
    "\n",
    "tuplaMatriz = getCMValues(validacion, resultados)\n",
    "print(tuplaMatriz)"
   ]
  },
  {
   "cell_type": "markdown",
   "id": "329c8733",
   "metadata": {},
   "source": [
    "EJERCICIO 5 RESOLUCIÓN"
   ]
  },
  {
   "cell_type": "code",
   "execution_count": 54,
   "id": "83b7c772",
   "metadata": {},
   "outputs": [],
   "source": [
    "def getMetrics(tupla):\n",
    "    \n",
    "    TP = tupla[0]\n",
    "    FP = tupla[1]\n",
    "    TN = tupla[2]\n",
    "    FN = tupla[3]\n",
    "    \n",
    "    Accuracy = (TP+TN) / (TP+FP+TN+FN)\n",
    "    Precision = TP / (TP + FP)\n",
    "    Sensibilidad = TP / (TP + FN)\n",
    "    Especificidad = TN / (TP + FP)\n",
    "    \n",
    "    return (float(f'{Accuracy: .2f}'), float(f'{Precision: .2f}'), float(f'{Sensibilidad: .2f}'), float(f'{Especificidad: .2f}'))"
   ]
  },
  {
   "cell_type": "code",
   "execution_count": 57,
   "id": "d928ab11",
   "metadata": {},
   "outputs": [
    {
     "data": {
      "text/plain": [
       "(0.54, 0.57, 0.63, 0.33)"
      ]
     },
     "execution_count": 57,
     "metadata": {},
     "output_type": "execute_result"
    }
   ],
   "source": [
    "getMetrics((34, 26, 20, 20))"
   ]
  }
 ],
 "metadata": {
  "kernelspec": {
   "display_name": "Python 3 (ipykernel)",
   "language": "python",
   "name": "python3"
  },
  "language_info": {
   "codemirror_mode": {
    "name": "ipython",
    "version": 3
   },
   "file_extension": ".py",
   "mimetype": "text/x-python",
   "name": "python",
   "nbconvert_exporter": "python",
   "pygments_lexer": "ipython3",
   "version": "3.9.7"
  }
 },
 "nbformat": 4,
 "nbformat_minor": 5
}
