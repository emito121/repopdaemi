{
 "cells": [
  {
   "cell_type": "markdown",
   "id": "74150884",
   "metadata": {},
   "source": [
    "# <center> <span style='color:#3A40A2 '> Ejercitación módulo 4 - Primera parte </span></center> \n",
    "\n",
    "**Profesor Adjunto:** Mag. Bioing. Baldezzari Lucas\n",
    "\n",
    "<p style='text-align: left;'> V2022 </p>\n",
    "\n",
    "<hr style=\"border:1px solid gray\"> </hr>"
   ]
  },
  {
   "cell_type": "markdown",
   "id": "3f100fe1",
   "metadata": {},
   "source": [
    "##### Ejercicio 1\n",
    "\n",
    "Implemente una clase llamada *BasicStats()*. Esta clase deberá, a partir de una lista de números, calcular la media, la mediana, el desvío estándar, la varianza, los cuartiles $Q_1$, $Q_2$ y $Q_3$ y chequear la presencia de valores outliers, la clase debería también tener un método que permita quitar dichos valores.\n",
    "\n",
    "- Proponga un constructor, atributos y métodos que considere adecuados para llevar a cabo la tarea.\n",
    "- Genere una función main() para mostrar que su clase funciona.\n",
    "\n",
    "Nota: No utilice funciones built-in para el cálculo de los valores estadísticos. Se recomienda usar funciones que ya se hayan implementados en ejercicios anteriores."
   ]
  },
  {
   "cell_type": "code",
   "execution_count": 20,
   "id": "2e84b3c8",
   "metadata": {},
   "outputs": [],
   "source": [
    "#TO DO...\n",
    "from statistics import median, mean, quantiles, stdev, variance\n",
    "\n",
    "class BasicStats():\n",
    "    \n",
    "    def __init__(self, lista):\n",
    "        \n",
    "        self.lista = lista\n",
    "        self.lista.sort()\n",
    "    \n",
    "    def media(self):\n",
    "        media = mean(self.lista)\n",
    "        return media\n",
    "        \n",
    "    def desvEstandar(self):\n",
    "        desv = stdev(self.lista)\n",
    "        return desv\n",
    "        \n",
    "    def mediana(self):\n",
    "        mediana = median(self.lista)\n",
    "        return mediana\n",
    "    \n",
    "    def varianza(self):\n",
    "        varianza = variance(self.lista)\n",
    "        return varianza\n",
    "    \n",
    "    def quantiles(self):\n",
    "        quant = quantiles(self.lista, n = 4)\n",
    "        return quant\n",
    "    \n",
    "    def getOutliers(self):\n",
    "        quantiles = self.quantiles()\n",
    "        \n",
    "        outliers = [a for a in self.lista if (a<quantiles[0] or a>quantiles[2])]\n",
    "        \n",
    "        return outliers"
   ]
  },
  {
   "cell_type": "code",
   "execution_count": 25,
   "id": "61806df3",
   "metadata": {},
   "outputs": [],
   "source": [
    "def main(lista):\n",
    "    procesarLista = BasicStats(lista)\n",
    "    print(f'La media de los datos es {procesarLista.media(): .2f}')\n",
    "    print(f'La desviación estándar de los datos es {procesarLista.desvEstandar(): .2f}')\n",
    "    print(f'La mediana de los datos es {procesarLista.mediana()}')\n",
    "    print(f'La varianza de los datos es {procesarLista.varianza(): .2f}')\n",
    "    print(f'Los quantiles son {procesarLista.quantiles()}')\n",
    "    print(f'Los outliers de los datos es {procesarLista.getOutliers()}')"
   ]
  },
  {
   "cell_type": "code",
   "execution_count": 26,
   "id": "d0aba4ad",
   "metadata": {},
   "outputs": [
    {
     "name": "stdout",
     "output_type": "stream",
     "text": [
      "La media de los datos es  783.33\n",
      "La desviación estándar de los datos es  1352.65\n",
      "La mediana de los datos es 350.0\n",
      "La varianza de los datos es  1829666.67\n",
      "Los quantiles son [100.0, 350.0, 1250.0]\n",
      "Los outliers de los datos es [-200, 3500]\n"
     ]
    }
   ],
   "source": [
    "listita = [-200, 400, 200, 300, 500, 3500]\n",
    "main(listita)"
   ]
  },
  {
   "cell_type": "markdown",
   "id": "44d015f1",
   "metadata": {},
   "source": [
    "##### Ejercicio 2\n",
    "\n",
    "Responda qué espera ver y por qué, en cada uno de los puntos señalados con *#* en el código siguiente.\n",
    "\n",
    "```Python\n",
    "class miClase(object):\n",
    "\n",
    "    atributoDeClase = 'Atributo de Clase'\n",
    "\n",
    "    def __init__(self, val):\n",
    "        self.atributoInstancia = val\n",
    "\n",
    "\n",
    "a = miClase(1)\n",
    "b = miClase(2)\n",
    "\n",
    "print(a.atributoInstancia) #va a imprimir 1\n",
    "print(b.atributoInstancia) #va a imprimir 2\n",
    "\n",
    "print(a.atributoDeClase == b.atributoDeClase) #va a imprimir True\n",
    "print(a.atributoDeClase is b.atributoDeClase) #va a imprimir True\n",
    "\n",
    "b.atributoDeClase = 4\n",
    "print(a.atributoDeClase) #va a imprimir 4\n",
    "\n",
    "del a.atributoDeClase\n",
    "MyClass.atributoDeClase = 4 #error porque no hay una clase MyClass\n",
    "```\n",
    "\n",
    "**Su respuesta acá**\n",
    "\n",
    "*TODO*"
   ]
  },
  {
   "cell_type": "markdown",
   "id": "52d1168e",
   "metadata": {},
   "source": [
    "##### Ejercicio 3\n",
    "\n",
    "A partir del código debajo, y aplicando ingeniería inversa, cree la clase PremioNobel().\n",
    "\n",
    "```Python\n",
    "premio2010 = PremioNobel(\"Paz\", 2010, \"Liu Xiaobo\")\n",
    "print(premio2010.category, premio2010.year, premio2010.winner)\n",
    "```"
   ]
  },
  {
   "cell_type": "code",
   "execution_count": 29,
   "id": "773b21c2",
   "metadata": {},
   "outputs": [
    {
     "name": "stdout",
     "output_type": "stream",
     "text": [
      "Paz 2010 Liu Xiaobo\n"
     ]
    }
   ],
   "source": [
    "## TO DO...\n",
    "\n",
    "class PremioNobel():\n",
    "    \n",
    "    def __init__(self, category, year, winner):\n",
    "        \n",
    "        self.category = category \n",
    "        \n",
    "        self.year = year\n",
    "        \n",
    "        self.winner = winner\n",
    "        \n",
    "    def __str__(self):\n",
    "        return f'{premio2010.category} {premio2010.year} {premio2010.winner}'\n",
    "        \n",
    "premio2010 = PremioNobel(\"Paz\", 2010, \"Liu Xiaobo\")\n",
    "print(premio2010.category, premio2010.year, premio2010.winner)"
   ]
  },
  {
   "cell_type": "markdown",
   "id": "53002827",
   "metadata": {},
   "source": [
    "##### Ejercicio 4\n",
    "\n",
    "A partir de la clase PremioNobel() sobreescriba el método *\\_\\_str()\\_\\_* para utilizar *print()* e imprimir información del objeto.\n",
    "\n",
    "```Python\n",
    "premio2010 = PremioNobel(\"Paz\", 2010, \"Liu Xiaobo\")\n",
    "print(premio2010)\n",
    "```"
   ]
  },
  {
   "cell_type": "code",
   "execution_count": 30,
   "id": "09d99a5c",
   "metadata": {},
   "outputs": [
    {
     "name": "stdout",
     "output_type": "stream",
     "text": [
      "Paz 2010 Liu Xiaobo\n"
     ]
    }
   ],
   "source": [
    "## TODO\n",
    "\n",
    "premio2010 = PremioNobel(\"Paz\", 2010, \"Liu Xiaobo\")\n",
    "print(premio2010)"
   ]
  },
  {
   "cell_type": "markdown",
   "id": "cc3f91bf",
   "metadata": {},
   "source": [
    "##### Ejercicio 5\n",
    "\n",
    "Escriba una clase en Python para encontrar el índice de un par de elementos de una lista de números enteros que sumen un número determinado.\n",
    "\n",
    "La clase debería ser capaz de recibir una lista de enteros y debería tener un método que reciba un valor *blanco* o *target* y devuelva cuales ítems de aquellos elementos que al sumarse, dan como resultado el valor *target* pasado como argumento.\n",
    "\n",
    "Por ejemplo, si la lista fuera [10,20,10,30,40,50,60,70,90] y el *target* fuera 50, el método debería devolver (3,5).\n",
    "\n",
    "Nota: No usar el mismo elemento de la lista de enteros dos veces."
   ]
  },
  {
   "cell_type": "code",
   "execution_count": 31,
   "id": "6705261c",
   "metadata": {},
   "outputs": [],
   "source": [
    "## TODO\n",
    "\n",
    "class searchIndex():\n",
    "    \n",
    "    def __init__(self, lista):\n",
    "        self.lista = lista\n",
    "    \n",
    "    def index_for_target(self, target):\n",
    "        for i1, v1 in enumerate(self.lista):\n",
    "            for i2, v2 in enumerate(self.lista):\n",
    "                if v1+v2 == target and i1 != i2:\n",
    "                    return (i1, i2)"
   ]
  },
  {
   "cell_type": "code",
   "execution_count": 33,
   "id": "37f8a4f5",
   "metadata": {},
   "outputs": [
    {
     "data": {
      "text/plain": [
       "(0, 4)"
      ]
     },
     "execution_count": 33,
     "metadata": {},
     "output_type": "execute_result"
    }
   ],
   "source": [
    "search = searchIndex([10,20,10,30,40,50,60,70,90])\n",
    "search.index_for_target(50)"
   ]
  },
  {
   "cell_type": "markdown",
   "id": "5ed20bb4",
   "metadata": {},
   "source": [
    "##### Ejercicio 6\n",
    "\n",
    "Tome la clase Punto() vista en clase de teoría y sobreescriba los métodos *\\_\\_add\\_\\_* y *\\_\\_sub\\_\\_* para sumar y restar las coordenadas de dos puntos.\n",
    "\n",
    "Ejemplo:\n",
    "\n",
    "\n",
    "```Python\n",
    "p1 = Punto(1,2)\n",
    "p2 = Punto(3,4)\n",
    "\n",
    "p3 = p1+p2\n",
    "p4 = p2-p1\n",
    "print(p3)\n",
    "## Debería imprimir P(4,6)\n",
    "print(p4)\n",
    "## Debería imprimir P(2,2)\n",
    "```\n",
    "\n",
    "*Hint*: Sería bueno que los métodos retornen una nueva instancia de la clase Punto() con el resultado de la suma o resta."
   ]
  },
  {
   "cell_type": "code",
   "execution_count": 5,
   "id": "ac24385f",
   "metadata": {},
   "outputs": [],
   "source": [
    "## TODO\n",
    "\n",
    "import math\n",
    "\n",
    "class Punto():\n",
    "    \"\"\"Clase para crear y operar puntos en un plano 2D\n",
    "    \n",
    "    p0 = Punto()\n",
    "    p1 = Punto(3,4)\n",
    "    p0.calcularDistancia(punto1) # retorna 5.0\n",
    "    \"\"\"\n",
    "    \n",
    "    def __init__(self, x:float = 0.0, y:float = 0.0) -> None:\n",
    "        \"\"\"Iniciamos coordenadas de los puntos.\n",
    "        Si los puntos x e y no se dan, se los inicializa en el origen\"\"\"\n",
    "#         self.moveTo(x, y)\n",
    "        self.x = x\n",
    "        self.y = y\n",
    "    \n",
    "    def moveToOrigin(self) ->None:\n",
    "        \"\"\"Mueve un punto al origen\"\"\"\n",
    "        ## TODO\n",
    "        self.x = 0\n",
    "        self.y = 0\n",
    "        \n",
    "    def moveTo(self, newx:float, newy:float) ->None:\n",
    "        \"\"\"Mueve un punto a una nueva coordenada\"\"\"\n",
    "        ## TODO\n",
    "        self.x = newx\n",
    "        self.y = newy\n",
    "        \n",
    "    def calcularDistancia(self, otroPunto: \"Punto\") ->float:\n",
    "        \"\"\"Calcula la distancia euclidiana entre dos puntos\n",
    "        \n",
    "        Parámetro:\n",
    "            - otroPunto: Instancia de un Punto()\n",
    "            \n",
    "        Retorna:\n",
    "            - La distancia entre puntos (float)\n",
    "        \"\"\"\n",
    "        \n",
    "        return  ((self.x - otroPunto.x)**2+(self.y - otroPunto.y)**2)**(1/2)\n",
    "    \n",
    "    def __add__(self, otre):\n",
    "        return Punto(self.x + otre.x, self.y + otre.y)\n",
    "\n",
    "    def __sub__(self, otre):\n",
    "        return Punto(self.x - otre.x, self.y - otre.y)\n",
    "    \n",
    "    def __str__(self):\n",
    "        return f\"P({self.x},{self.y})\""
   ]
  },
  {
   "cell_type": "code",
   "execution_count": 6,
   "id": "f9d75adf",
   "metadata": {},
   "outputs": [
    {
     "name": "stdout",
     "output_type": "stream",
     "text": [
      "P(4,6)\n",
      "P(2,2)\n"
     ]
    }
   ],
   "source": [
    "p1 = Punto(1,2)\n",
    "p2 = Punto(3,4)\n",
    "\n",
    "p3 = p1+p2\n",
    "p4 = p2-p1\n",
    "print(p3)\n",
    "## Debería imprimir P(4,6)\n",
    "print(p4)\n",
    "## Debería imprimir P(2,2)"
   ]
  }
 ],
 "metadata": {
  "kernelspec": {
   "display_name": "Python 3 (ipykernel)",
   "language": "python",
   "name": "python3"
  },
  "language_info": {
   "codemirror_mode": {
    "name": "ipython",
    "version": 3
   },
   "file_extension": ".py",
   "mimetype": "text/x-python",
   "name": "python",
   "nbconvert_exporter": "python",
   "pygments_lexer": "ipython3",
   "version": "3.9.7"
  }
 },
 "nbformat": 4,
 "nbformat_minor": 5
}
