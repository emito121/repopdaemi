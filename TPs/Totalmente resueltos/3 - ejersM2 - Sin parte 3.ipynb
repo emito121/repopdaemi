{
 "cells": [
  {
   "cell_type": "markdown",
   "id": "11c80339",
   "metadata": {},
   "source": [
    "# <center> <span style='color:#3A40A2 '> Ejercitación Módulo 2 </span></center>\n",
    "<hr style=\"border:1px solid gray\"> </hr>\n",
    "\n",
    "La siguiente notebook contiene ejercitación del Módulo 2 de la Unidad Curricular ***\"Programación Digital Avanzada\"*** de la carrera de *Ingeniería Biomédica* de la UTEC.\n",
    "\n",
    "La *primera parte* y la *segunda parte* de esta notebook serán utilizadas para ejercitación. Por otro lado, la *tercera parte* será utilizada para el laboratorio del módulo y **se debe entregar** resuelta en una Jupyter Notebbok (puede ser esta misma). Además debe subirse la resolución a su repositorio de PDA en github.\n",
    "\n",
    "Profesor Adjunto: *Mag. Bioing. Baldezzari Lucas*\n",
    "\n",
    "<p style='text-align: right;'> V2022 </p>"
   ]
  },
  {
   "cell_type": "markdown",
   "id": "16450ddd",
   "metadata": {},
   "source": [
    "<hr style=\"border:1px solid gray\"> </hr>\n",
    "\n",
    "## <span style='color:#3A40A2 '> Primera parte </span>\n",
    "\n",
    "Investigue y responda.\n",
    "\n",
    "1. ¿Qué sginifica que Python sea un lenguaje *no tipificado*.\n",
    "2. Mencione algunas diferencias entre los tipos de datos *int* y *reales* en Python\n",
    "3. Mencione algunas diferencias entre los tipos *tuplas*, *listas*, *string* y *diccionarios* en Python\n",
    "4. ¿Qué es un *elemento* de una lista? ¿Cómo se puede acceder a un determinado elemento?\n",
    "5. ¿Qué significa que un tipo de dato sea dinámico y mutable?\n",
    "6. ¿Qué se entiende por *colección* o *collection* en Python? ¿Qué tipos de datos pertenecen a esta categoría?\n",
    "7. ¿Qué significa *Aliasing* en el ámbito de Python?\n",
    "8. ¿Qué entiende por parámetro o argumento de una función?\n",
    "9. En las siguientes líneas de código, ¿cuál es la diferencia entre las variables s1 y s2?\n",
    "\n",
    "```Python\n",
    "def saludar():\n",
    "    print(\"Buenas!\")\n",
    "    \n",
    "s1 = saludar()\n",
    "s2 = saludar\n",
    "```\n",
    "\n",
    "10. ¿Qué significa que las funciones *lambdas* pueden ser *anónimas*?\n",
    "11. ¿Qué palabra reservada puede usarse para chequear si un elemento dentro se encuentra dentro de un set o una lista?\n",
    "12. Observe el siguiente código y responda si es posible realizar dicha asignación. ¿Si? ¿No? ¿Por qué?\n",
    "\n",
    "```Python\n",
    "miSet = {1,2,3, [1,2,3]}\n",
    "```"
   ]
  },
  {
   "cell_type": "markdown",
   "id": "eac03c74",
   "metadata": {},
   "source": [
    "<hr style=\"border:1px solid gray\"> </hr>\n",
    "\n",
    "## <span style='color:#3A40A2 '> Segunda parte </span>\n",
    "\n",
    "En esta parte deberá resolver los siguientes ejercicios.\n",
    "\n",
    "*NOTA:* Esta parte no debe entregarse."
   ]
  },
  {
   "cell_type": "markdown",
   "id": "ebfb519c",
   "metadata": {},
   "source": [
    "#### <span style='color:#f95441'>Funciones para lectura de entradas desde teclado</span>\n",
    "\n",
    "Python ofrece algunas funciones *[built-in](https://docs.python.org/3/library/functions.html)* para solicitar a un usuario que ingrese algo por el teclado y leer dicha entrada, alguna de estas funciones son *[raw_input](https://python-reference.readthedocs.io/en/latest/docs/functions/raw_input.html)* e *[input()](https://docs.python.org/3/library/functions.html#input)*.\n",
    "\n",
    "Por ejemplo, \n",
    "\n",
    "```Python\n",
    "nombre = input(\"¿Cuál es tu nombre?\")\n",
    "print(f\"Hola, {nombre}\")\n",
    "```"
   ]
  },
  {
   "cell_type": "markdown",
   "id": "97fde560",
   "metadata": {},
   "source": [
    "### <span style='color:#f95441'>Ejercicios</span>"
   ]
  },
  {
   "cell_type": "markdown",
   "id": "6fc37704",
   "metadata": {},
   "source": [
    "##### Ejercicio 2.1\n",
    "\n",
    "Un polígono es regular si todos sus lados poseen la misma longitud y los ángulos internos de lados adyacentes son iguales. El área de un políguno regular puede ser calculado usando la siguiente fórmula, sonde $s$ es el largo de cada lado y $n$ es la cantidad de lados.\n",
    "\n",
    "$$   area = \\frac{n\\times s^2}{4\\times \\tan(\\frac{\\pi}{n})}  $$\n",
    "\n",
    "Escriba un programa que lea desde el teclado los valores de $s$ y $n$ y muestre el área del polígono."
   ]
  },
  {
   "cell_type": "code",
   "execution_count": 2,
   "id": "9fca8a5d",
   "metadata": {},
   "outputs": [
    {
     "name": "stdout",
     "output_type": "stream",
     "text": [
      "Ingrese el número de lados: 10\n",
      "Ingrese la longitud de cada lado: 10\n",
      "El area del poligono es de 769.4208842938134 m2\n"
     ]
    }
   ],
   "source": [
    "## Resolución ejercicio 2.1\n",
    "\n",
    "##TO DO\n",
    "from math import pi\n",
    "from numpy import tan\n",
    "\n",
    "n = int(input('Ingrese el número de lados: '))\n",
    "s = float(input('Ingrese la longitud de cada lado: '))\n",
    "\n",
    "area = (n*s**2)/(4*tan(pi/n))\n",
    "\n",
    "print(f'El area del poligono es de {area} m2')"
   ]
  },
  {
   "cell_type": "markdown",
   "id": "db149f77",
   "metadata": {},
   "source": [
    "##### Ejercicio 2.2\n",
    "\n",
    "Escriba un programa que lea desde el teclado el valor de un entero de cuatro dígitos y muestre por pantalla la suma de los dígitos. Por ejemplo, si el usuario ingresa *1234* el programa debe mostrar *10*."
   ]
  },
  {
   "cell_type": "code",
   "execution_count": 4,
   "id": "b29cdb75",
   "metadata": {},
   "outputs": [
    {
     "name": "stdout",
     "output_type": "stream",
     "text": [
      "Ingrese un numero de 4 digitos: 1234\n",
      "El resultado de una suma 10\n"
     ]
    }
   ],
   "source": [
    "## Resolución ejercicio 2.2\n",
    "\n",
    "##TO DO\n",
    "\n",
    "## Resolución ejercicio 2.1\n",
    "\n",
    "##TO DO\n",
    "\n",
    "s = input('Ingrese un numero de 4 digitos: ')\n",
    "\n",
    "suma = int(s[0])+int(s[1])+int(s[2])+int(s[3])\n",
    "\n",
    "print(f'El resultado de una suma {suma}')"
   ]
  },
  {
   "cell_type": "markdown",
   "id": "ad5592c8",
   "metadata": {},
   "source": [
    "##### Ejercicio 2.3\n",
    "\n",
    "Escriba un programa que calcule las raices de una función cuadrática."
   ]
  },
  {
   "cell_type": "code",
   "execution_count": 5,
   "id": "ee733924",
   "metadata": {},
   "outputs": [
    {
     "name": "stdout",
     "output_type": "stream",
     "text": [
      "(-9.999999999999998+43.58898943540674j) (-10.000000000000002-43.58898943540674j)\n"
     ]
    }
   ],
   "source": [
    "## Resolución ejercicio 2.3\n",
    "\n",
    "##TO DO\n",
    "\n",
    "a = 10\n",
    "\n",
    "b = 2\n",
    "\n",
    "c = 2\n",
    "\n",
    "raiz = (b**2-4*a*c)**(1/2)\n",
    "\n",
    "raiz1 = (-b+raiz)/2*a\n",
    "raiz2 =  (-b-raiz)/2*a\n",
    "\n",
    "print(raiz1, raiz2)"
   ]
  },
  {
   "cell_type": "markdown",
   "id": "2a8777c1",
   "metadata": {},
   "source": [
    "##### Ejercicio 2.4\n",
    "\n",
    "Ruido |dB |\n",
    "-----|-----| \n",
    "Martillo neumático |130|\n",
    "Desmalezadora a nafta|106|\n",
    "Alarma reloj|70|\n",
    "Tranquilo|40|\n",
    "\n",
    "Escriba un programa que reciba un nivel de ruido en decibeles $dB$. Si el nivel de ruido coincide con uno de los ruidos de la tabla anterior, el programa debe informar a qué se debe. En el caso de que el nivel de ruido este entre alguno de los dos niveles, el programa debe informar entre que ruidos se encuentra el nivel ingresado. Además, el programa implementado debe dar mensajes adecuados si los sonidos estan por encima del valor máximo o por debajo del mínimo."
   ]
  },
  {
   "cell_type": "code",
   "execution_count": 28,
   "id": "0e8a0a52",
   "metadata": {},
   "outputs": [
    {
     "name": "stdout",
     "output_type": "stream",
     "text": [
      "Ingeres el valor en desibeles: 50\n",
      "El ruido se encuentra entre los valores de 70 y 40 dB\n"
     ]
    }
   ],
   "source": [
    "## Resolución ejercicio 2.4\n",
    "\n",
    "##TO DO\n",
    "\n",
    "desibeles = float(input('Ingeres el valor en desibeles: '))\n",
    "\n",
    "dic = {'Martillo neumatico': 130, 'Demalezadora a nafta': 106, 'Alarma reloj': 70, 'Tranquilo': 40}\n",
    "\n",
    "for i in dic.keys():\n",
    "    if desibeles == dic[i]:\n",
    "        print(f'El ruido es de {i}')\n",
    "        \n",
    "if desibeles > dic[\"Martillo neumatico\"]:\n",
    "    print(f'El ruido es superior al maximo de 140')\n",
    "    \n",
    "elif (dic['Martillo neumatico'] > desibeles > dic['Demalezadora a nafta']):\n",
    "    print(f'El ruido se encuentra entre los valores de {dic[\"Martillo neumatico\"]} y {dic[\"Demalezadora a nafta\"]} db')\n",
    "\n",
    "elif (dic['Demalezadora a nafta'] > desibeles > dic['Alarma reloj']):\n",
    "    print(f'El ruido se encuentra entre los valores de {dic[\"Demalezadora a nafta\"]} y {dic[\"Alarma reloj\"]} dB')\n",
    "\n",
    "elif (dic['Alarma reloj'] > desibeles > dic['Tranquilo']):\n",
    "    print(f'El ruido se encuentra entre los valores de {dic[\"Alarma reloj\"]} y {dic[\"Tranquilo\"]} dB')\n",
    "\n",
    "elif desibeles < dic['Tranquilo']:\n",
    "    print('El valor es inferior a 40 dB, el cual corresponde a tranquilo')"
   ]
  },
  {
   "cell_type": "markdown",
   "id": "1d9913ca",
   "metadata": {},
   "source": [
    "##### Ejercicio 2.5\n",
    "\n",
    "Utilizando *enumerate()* implemente un programa que imprima las letras pertenecientes a los índices divisibles por 3 del string *abcdefghijklmnopqrstuvwxyz*. Empezar a contar desde 1."
   ]
  },
  {
   "cell_type": "code",
   "execution_count": 30,
   "id": "3a65a596",
   "metadata": {},
   "outputs": [
    {
     "name": "stdout",
     "output_type": "stream",
     "text": [
      "d\n",
      "g\n",
      "j\n",
      "m\n",
      "p\n",
      "s\n",
      "v\n",
      "y\n"
     ]
    }
   ],
   "source": [
    "### Resolución Ejercicio 2.5\n",
    "\n",
    "abc = \"abcdefghijklmnopqrstuvwxyz\"\n",
    "\n",
    "##TO DO\n",
    "\n",
    "[print(abc[i]) for i, v in enumerate(abc, start = 1) if i%3 == 0];"
   ]
  },
  {
   "cell_type": "markdown",
   "id": "28faab53",
   "metadata": {},
   "source": [
    "##### Ejercicio 2.6\n",
    "\n",
    "Las posiciones en un tablero de ajedrez se identifican con letras y números. Las letras indican las columnas mientras que los números indican las filas, como la imágen debajo.\n",
    "\n",
    "<img src=\"chessboard.png\" width=250 height=250 />\n",
    "\n",
    "Escriba un programa que lea desde el teclado una coordenada del tablero (ej. 'a3') y devuelva si el casillero es de color blanco o negro. Asuma que todas las entradas son correctas, es decir, **no** es necesario realizar un chequeo de errores (veremos más adelante cómo hacer esto con *try* y *except*)."
   ]
  },
  {
   "cell_type": "code",
   "execution_count": 6,
   "id": "78fc9cb6",
   "metadata": {},
   "outputs": [
    {
     "name": "stdout",
     "output_type": "stream",
     "text": [
      "Ingrese su celda, si ingresa 666 se cerrara el programa: a3\n",
      "celda negra\n",
      "Ingrese su celda, si ingresa 666 se cerrara el programa: b2\n",
      "celda negra\n",
      "Ingrese su celda, si ingresa 666 se cerrara el programa: h7\n",
      "celda blanca\n",
      "Ingrese su celda, si ingresa 666 se cerrara el programa: e2\n",
      "celda blanca\n",
      "Ingrese su celda, si ingresa 666 se cerrara el programa: c8\n",
      "celda blanca\n",
      "Ingrese su celda, si ingresa 666 se cerrara el programa: c7\n",
      "celda negra\n",
      "Ingrese su celda, si ingresa 666 se cerrara el programa: 666\n"
     ]
    }
   ],
   "source": [
    "## Resolución ejercicio 2.6\n",
    "\n",
    "##TO DO\n",
    "\n",
    "while True:\n",
    "    celda = str(input('Ingrese su celda, si ingresa 666 se cerrara el programa: '))\n",
    "    \n",
    "    if celda == '666':\n",
    "        break\n",
    "    else:\n",
    "        filas = [1,2,3,4,5,6,7,8]\n",
    "        columnas = 'abcdefgh'\n",
    "\n",
    "        if ((columnas.index(celda[0])%2 == 0) and (filas.index(int(celda[1]))%2 == 0)):\n",
    "            print('celda negra')\n",
    "        elif ((columnas.index(celda[0])%2 != 0) and (filas.index(int(celda[1]))%2 != 0)):\n",
    "            print('celda negra')\n",
    "        else:\n",
    "            print('celda blanca')"
   ]
  },
  {
   "cell_type": "markdown",
   "id": "1a67e400",
   "metadata": {},
   "source": [
    "##### Ejercicio 2.7\n",
    "\n",
    "Escriba un programa que convierta números binarios a números decimales. El programa debe leer desde el teclado un número binario en forma de string y computar el equivalente en decimal. El número calculado debe mostrarse en un mensaje."
   ]
  },
  {
   "cell_type": "code",
   "execution_count": 13,
   "id": "f3e5a7d2",
   "metadata": {},
   "outputs": [
    {
     "name": "stdout",
     "output_type": "stream",
     "text": [
      "Ingrese su numero binario: 11\n",
      "3\n"
     ]
    }
   ],
   "source": [
    "## Resolución ejercicio 2.7\n",
    "\n",
    "##TO DO\n",
    "\n",
    "binario = str(input('Ingrese su numero binario: '))[::-1]\n",
    "\n",
    "lista = [(int(v)*2**i) for i, v in enumerate(binario)]\n",
    "\n",
    "print(sum(lista))"
   ]
  },
  {
   "cell_type": "markdown",
   "id": "ec43ec05",
   "metadata": {},
   "source": [
    "##### Ejercicio 2.8\n",
    "\n",
    "Escriba un programa que determine si un número entero $n$ es *perfecto*. Un número es perfecto cuando la suma de sus propios divisores da el mismo número.\n",
    "\n",
    "Por ejemplo, el *6* es un número perfecto, ya que la suma de sus divisores es $1+2+3 = 6$."
   ]
  },
  {
   "cell_type": "code",
   "execution_count": null,
   "id": "7108a082",
   "metadata": {},
   "outputs": [
    {
     "name": "stdout",
     "output_type": "stream",
     "text": [
      "Ingrese su numero intervalo a verificar: 1000000\n",
      "0\n",
      "6\n",
      "28\n",
      "496\n",
      "8128\n"
     ]
    }
   ],
   "source": [
    "## Resolución ejercicio 2.8\n",
    "\n",
    "##TO DO\n",
    "\n",
    "n = int(input('Ingrese su numero intervalo a verificar: '))\n",
    "\n",
    "#[a for a in range(0,n) if n%a == 0]\n",
    "\n",
    "def perfecto(x):\n",
    "    numero = sum([a for a in range(1,x) if x%a == 0])\n",
    "    return numero\n",
    "\n",
    "for i in range(n):\n",
    "    if perfecto(i) == i:\n",
    "        print(i)"
   ]
  },
  {
   "cell_type": "markdown",
   "id": "ee456ebf",
   "metadata": {},
   "source": [
    "### <span style='color:#4BB58D '>Funciones</span>"
   ]
  },
  {
   "cell_type": "markdown",
   "id": "b8dd4050",
   "metadata": {},
   "source": [
    "##### Ejercicio 2.9\n",
    "\n",
    "Implemente una función que devuelva el factorial de un número entero n."
   ]
  },
  {
   "cell_type": "code",
   "execution_count": 13,
   "id": "93102ced",
   "metadata": {},
   "outputs": [],
   "source": [
    "## Resolución ejercicio 2.9\n",
    "\n",
    "##TO DO\n",
    "\n",
    "def factorial(n):\n",
    "    resultado = 1\n",
    "    if type(n) == int and n > 0:\n",
    "        for i in range(1,n+1):\n",
    "            resultado = resultado*i\n",
    "        print(f'El resultado es {resultado}')\n",
    "    \n",
    "    elif n < 0:\n",
    "        print('El número ingresado es negativo')\n",
    "        \n",
    "    elif n == 0:\n",
    "        print('El resultado es 1')\n",
    "        \n",
    "    else:\n",
    "        print('El nímero ingresado no es entero')"
   ]
  },
  {
   "cell_type": "code",
   "execution_count": 16,
   "id": "4e7b7444",
   "metadata": {},
   "outputs": [
    {
     "name": "stdout",
     "output_type": "stream",
     "text": [
      "El resultado es 1\n"
     ]
    }
   ],
   "source": [
    "factorial(0\n",
    "         )"
   ]
  },
  {
   "cell_type": "markdown",
   "id": "4b12b2bb",
   "metadata": {},
   "source": [
    "##### Ejercicio 2.10\n",
    "\n",
    "Implemente una función que reciba una lista de números enteros y devuelva una nueva lista pero sin los valores repetidos.\n",
    "\n",
    "NOTA: No usar funciones *built-in*."
   ]
  },
  {
   "cell_type": "code",
   "execution_count": 35,
   "id": "a87dd718",
   "metadata": {},
   "outputs": [],
   "source": [
    "## Resolución ejercicio 2.10\n",
    "\n",
    "##TO DO\n",
    "\n",
    "def filtro(lista):\n",
    "    \n",
    "    sinRepetir = []\n",
    "    for i in lista:\n",
    "        if type(i) == int:\n",
    "            if i not in sinRepetir:\n",
    "                sinRepetir.append(i)\n",
    "        else:\n",
    "            return('Ingresó números no enteros')\n",
    "                \n",
    "    return sinRepetir"
   ]
  },
  {
   "cell_type": "code",
   "execution_count": 34,
   "id": "bb33b90f",
   "metadata": {},
   "outputs": [
    {
     "name": "stdout",
     "output_type": "stream",
     "text": [
      "[1, 100, 200, 32, 213, 23]\n"
     ]
    }
   ],
   "source": [
    "print(filtro([1,1,100,200,32,213,32,32,23]))"
   ]
  },
  {
   "cell_type": "code",
   "execution_count": 36,
   "id": "b0c5e0a8",
   "metadata": {},
   "outputs": [
    {
     "name": "stdout",
     "output_type": "stream",
     "text": [
      "Ingresó números no enteros\n"
     ]
    }
   ],
   "source": [
    "print(filtro([1,1,100,200,32.0,213,32,32,23]))"
   ]
  },
  {
   "cell_type": "markdown",
   "id": "56ae7ed2",
   "metadata": {},
   "source": [
    "##### Ejercicio 2.11\n",
    "\n",
    "Implemente una función que reciba como argumento un año y retorne *True* si el año es bisiesto, caso contrario que retorne *False.\n",
    "\n",
    "Para saber si un año es bisiesto tenga en cuenta estos puntos:\n",
    "- Cualquier año divisible por 400 es bisiesto.\n",
    "- De los años restantes, cualquiera que sea divisible por 100 **no** es bisiesto.\n",
    "- De los años restantes, cualquiera que sea divisible por 4 es un año bisiesto."
   ]
  },
  {
   "cell_type": "code",
   "execution_count": 42,
   "id": "88b4183c",
   "metadata": {},
   "outputs": [],
   "source": [
    "## Resolución ejercicio 2.11\n",
    "\n",
    "##TO DO\n",
    "\n",
    "def bisiesto(año):\n",
    "    if año%400 == 0:\n",
    "        print(f'El año {año} es bisiesto')\n",
    "    else:\n",
    "        if año%100 == 0:\n",
    "            print(f'El año {año} no es bisiesto')\n",
    "        elif año%4 == 0:\n",
    "            print(f'El año {año} es bisiesto')\n",
    "        else:\n",
    "            print(f'El año {año} no es bisiesto')"
   ]
  },
  {
   "cell_type": "code",
   "execution_count": 43,
   "id": "f17a41b9",
   "metadata": {},
   "outputs": [
    {
     "name": "stdout",
     "output_type": "stream",
     "text": [
      "El año 2000 es bisiesto\n",
      "El año 2001 no es bisiesto\n",
      "El año 2002 no es bisiesto\n",
      "El año 2003 no es bisiesto\n",
      "El año 2004 es bisiesto\n",
      "El año 2005 no es bisiesto\n",
      "El año 2006 no es bisiesto\n",
      "El año 2007 no es bisiesto\n",
      "El año 2008 es bisiesto\n",
      "El año 2009 no es bisiesto\n",
      "El año 2010 no es bisiesto\n",
      "El año 2011 no es bisiesto\n",
      "El año 2012 es bisiesto\n",
      "El año 2013 no es bisiesto\n",
      "El año 2014 no es bisiesto\n",
      "El año 2015 no es bisiesto\n",
      "El año 2016 es bisiesto\n",
      "El año 2017 no es bisiesto\n",
      "El año 2018 no es bisiesto\n",
      "El año 2019 no es bisiesto\n",
      "El año 2020 es bisiesto\n",
      "El año 2021 no es bisiesto\n",
      "El año 2022 no es bisiesto\n",
      "El año 2023 no es bisiesto\n",
      "El año 2024 es bisiesto\n",
      "El año 2025 no es bisiesto\n",
      "El año 2026 no es bisiesto\n",
      "El año 2027 no es bisiesto\n",
      "El año 2028 es bisiesto\n",
      "El año 2029 no es bisiesto\n",
      "El año 2030 no es bisiesto\n"
     ]
    }
   ],
   "source": [
    "for i in range(2000, 2031):\n",
    "    bisiesto(i)"
   ]
  },
  {
   "cell_type": "markdown",
   "id": "565617f8",
   "metadata": {},
   "source": [
    "##### Ejercicio 2.12\n",
    "\n",
    "Impmemente una función que retorne el máximo de una lista de números. No utilizar funciones *built-in*."
   ]
  },
  {
   "cell_type": "code",
   "execution_count": 67,
   "id": "44eae17f",
   "metadata": {},
   "outputs": [],
   "source": [
    "## Resolución ejercicio 2.12\n",
    "\n",
    "##TO DO\n",
    "\n",
    "def maximo(lista):\n",
    "    for i in lista:\n",
    "        try:\n",
    "            if i > maximo:\n",
    "                maximo = i\n",
    "        except:\n",
    "            maximo = i\n",
    "        \n",
    "    print(f'El máximo de la lista es {maximo}')"
   ]
  },
  {
   "cell_type": "code",
   "execution_count": 68,
   "id": "d2999c7b",
   "metadata": {},
   "outputs": [
    {
     "name": "stdout",
     "output_type": "stream",
     "text": [
      "El máximo de la lista es 11000\n"
     ]
    }
   ],
   "source": [
    "maximo([1,2,3,4,100,1000,40,11000,909])"
   ]
  },
  {
   "cell_type": "markdown",
   "id": "36b1b02e",
   "metadata": {},
   "source": [
    "##### Ejercicio 2.13\n",
    "\n",
    "Implemente una función que reciba como parámetro una lista de números (enteros o flotantes) y retorne la *mediana*."
   ]
  },
  {
   "cell_type": "code",
   "execution_count": 72,
   "id": "cbdc985b",
   "metadata": {},
   "outputs": [],
   "source": [
    "## Resolución ejercicio 2.13\n",
    "\n",
    "##TO DO\n",
    "\n",
    "def mediana(lista):\n",
    "    cantidad = len(lista)\n",
    "    posicion = cantidad/2\n",
    "    \n",
    "    if cantidad%2 == 0:\n",
    "        return f'La mediana es {lista[posicion]}'\n",
    "    \n",
    "    else:\n",
    "        median = (lista[int(posicion)]+lista[int(posicion+1)])/2\n",
    "        return f'La mediana es {median}'"
   ]
  },
  {
   "cell_type": "code",
   "execution_count": 73,
   "id": "cb5601d1",
   "metadata": {},
   "outputs": [
    {
     "name": "stdout",
     "output_type": "stream",
     "text": [
      "La mediana es 1.5\n"
     ]
    }
   ],
   "source": [
    "print(mediana([1,2,3,3,3,5,2,1,5,6,3,5,6]))"
   ]
  },
  {
   "cell_type": "markdown",
   "id": "1d5e1ff9",
   "metadata": {},
   "source": [
    "<hr style=\"border:1px solid gray\"> </hr>\n",
    "\n",
    "## <span style='color:#3A40A2 '> Tercera parte </span>\n",
    "\n",
    "**Se habilitará para el laboratorio.**"
   ]
  },
  {
   "cell_type": "markdown",
   "id": "f95fb1a0",
   "metadata": {},
   "source": [
    "<hr style=\"border:1px solid gray\"> </hr>\n",
    "\n",
    "##  <span style='color:#3A40A2 '>FIN</span>"
   ]
  }
 ],
 "metadata": {
  "interpreter": {
   "hash": "341b29a86feb41683388a2350ede9b29bff08e5e019b1f08826cb582c6a8c162"
  },
  "kernelspec": {
   "display_name": "Python 3 (ipykernel)",
   "language": "python",
   "name": "python3"
  },
  "language_info": {
   "codemirror_mode": {
    "name": "ipython",
    "version": 3
   },
   "file_extension": ".py",
   "mimetype": "text/x-python",
   "name": "python",
   "nbconvert_exporter": "python",
   "pygments_lexer": "ipython3",
   "version": "3.9.7"
  }
 },
 "nbformat": 4,
 "nbformat_minor": 5
}
