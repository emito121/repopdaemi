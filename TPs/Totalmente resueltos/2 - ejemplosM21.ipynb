{
 "cells": [
  {
   "cell_type": "markdown",
   "id": "06742760",
   "metadata": {},
   "source": [
    "# <center> <span style='color:#3A40A2 '> Ejemplos clase Módulo 2 - Parte 1</span></center>\n",
    "<hr style=\"border:1px solid gray\"> </hr>\n",
    "\n",
    "La siguiente notebook contiene ejemplos de la clase del Módulo 2 de la Unidad Curricular ***Programación Digital Avanzada\n",
    "*** de la carrera de *Ingeniería Biomédica* de la UTEC.\n",
    "\n",
    "**Profesor Adjunto:** Mag. Bioing. Baldezzari Lucas\n",
    "\n",
    "<p style='text-align: left;'> V2022 </p>"
   ]
  },
  {
   "cell_type": "markdown",
   "id": "015447f6",
   "metadata": {},
   "source": [
    "<hr style=\"border:1px solid gray\"> </hr>\n",
    "\n",
    "##  <span style='color:#3A40A2 '> Tipos de datos, variables, asignaciones </span>\n",
    "\n",
    "### ¿Qué es un Tipo de Dato?\n",
    "\n",
    "\n",
    "En Python significa la pertenencia a una categoría particular de dato. Cada tipo de dato tiene un nombre, por ejemplo float y al mismo tiempo posee métodos para operarlos.\n",
    "\n",
    "Python incluye varios tipos de datos built-in, como ser, números enteros, reales y complejos. Diccionarios. Datos secuenciales como los strings, tuplas, listas y sets. Booleanos.\n",
    "\n",
    "#### ¿Qué es una expresión?\n",
    "Una expresión es una combinación de valores, variables y operadores. Un valor en si mismo es considerado una expresión.\n",
    "\n",
    "### ¿Qué es una variable?\n",
    "\n",
    "Es una posición de memoria que tiene un nombre y almacena un valor.\n",
    "\n",
    "**Consideraciones**\n",
    "- No se tipifican\n",
    "- Los nombres de variables no pueden empezar con números u operadores (-, +, *, “”,entre otros)\n",
    "- No puden usarse palabras reservadas como nombres de variables.\n",
    "- Es una buena práctica declarar las variables con el método camelCase o con _.\n",
    "\n",
    "\n",
    "### ¿Cuál es el orden de operaciones en una asignación?\n",
    "\n",
    "Python posee un orden de operación antes de realizar una asignación. En el caso de operaciones matemáticas, Python usa la convención matemática. El acrónimo **PEMDAS** es útil para recordar cómo opera Python.\n",
    "\n",
    "1. Paréntesis\n",
    "2. Exponenciales\n",
    "3. Multiplicación y División\n",
    "4. Adición y Substracción\n",
    "5. Operadores con el mismo nivel de jerarquía se avalúan de izquierda a derecha (excepto las exponenciaciones)\n",
    "\n",
    "¿Cual es el resultado de la siguiente operación?\n",
    "\n",
    "```Python\n",
    "cuenta = (1+3)**(5-3) + 2*3**2 - (2*3-1) + (6+4/2)/8*2\n",
    "```"
   ]
  },
  {
   "cell_type": "code",
   "execution_count": 1,
   "id": "d712fb54",
   "metadata": {},
   "outputs": [
    {
     "data": {
      "text/plain": [
       "31.0"
      ]
     },
     "execution_count": 1,
     "metadata": {},
     "output_type": "execute_result"
    }
   ],
   "source": [
    "cuenta = (1+3)**(5-3) + 2*3**2 - (2*3-1) + (6+4/2)/8*2\n",
    "cuenta"
   ]
  },
  {
   "cell_type": "markdown",
   "id": "5883d1b9",
   "metadata": {},
   "source": [
    "<hr style=\"border:1px solid gray\"> </hr>\n",
    "\n",
    "##  <span style='color:#3A40A2 '> Estructuras de control de flujo </span>\n",
    "\n",
    "###  <span style='color:#3A40A2 '> Sentencias *if, elif, else* </span>\n",
    "\n",
    "```Python\n",
    "if expresión a testear:\n",
    "    #do something\n",
    "elif expresión a testear:\n",
    "    #do something\n",
    "else:\n",
    "    #do something else\n",
    "```\n",
    "\n",
    "Recordar que en algunos casos no hace falta evaluar un *else*, por ejemplo podríamos evaluar **si** alguna condición se cumple y hacer algo o caso contrario simplemente no hacer nada, es decir...\n",
    "\n",
    "```Python\n",
    "if expresión a testear:\n",
    "    #do something\n",
    "```"
   ]
  },
  {
   "cell_type": "code",
   "execution_count": 2,
   "id": "64380f78",
   "metadata": {},
   "outputs": [
    {
     "name": "stdout",
     "output_type": "stream",
     "text": [
      "a es mayor a b\n"
     ]
    }
   ],
   "source": [
    "a = 10\n",
    "b = 1\n",
    "c = 23\n",
    "\n",
    "if a > b:\n",
    "    print(\"a es mayor a b\")\n",
    "\n",
    "elif a > c:\n",
    "    print(\"a es mayor a c pero no a b\")\n",
    "\n",
    "else:\n",
    "    print(\"a no es mayor ni a b ni a c\")"
   ]
  },
  {
   "cell_type": "markdown",
   "id": "4a40126f",
   "metadata": {},
   "source": [
    "###  <span style='color:#3A40A2 '> Sentencia *for* </span>\n",
    "\n",
    "```Python\n",
    "for valor in valores:\n",
    "    #do something\n",
    "```\n",
    "\n",
    "#### <span style='color:#f95441 '> Función range() </span>\n",
    "\n",
    "Una función propia de Python muy utilizada con los bucler *for* es *[range()](https://docs.python.org/3/library/functions.html#func-range)*. Range() genera una secuencia de números.\n",
    "\n",
    "```Python\n",
    "#Sintáxis\n",
    "range(start, stop, step)\n",
    "```\n",
    "\n",
    "La función *range()* es una función que existe dentro del *espacio de nombres* de Python, es decir, no hace falta importarla con la palabra reservada *import*"
   ]
  },
  {
   "cell_type": "code",
   "execution_count": 3,
   "id": "1be00186",
   "metadata": {},
   "outputs": [
    {
     "name": "stdout",
     "output_type": "stream",
     "text": [
      "[0, 1, 2, 3, 4, 5, 6, 7, 8, 9]\n",
      "[5, 6, 7, 8, 9]\n",
      "[0, 2, 4, 6, 8, 10]\n"
     ]
    }
   ],
   "source": [
    "#### Ejemplos\n",
    "print(list(range(10))) #imprime una lista secuencia de números de 0 a 9\n",
    "print(list(range(5, 10))) #imprime una lista secuencia  de números de 5 a 9\n",
    "print(list(range(0,11,2))) #imprime una lista de números de 0 a 10 pero con paso de a 2"
   ]
  },
  {
   "cell_type": "code",
   "execution_count": 4,
   "id": "ff234b94",
   "metadata": {},
   "outputs": [],
   "source": [
    "#Podemos utilizar la función range para iterar una secuencia, esto es,\n",
    "\n",
    "# for valor in range(10,101,20):\n",
    "#     print(valor)"
   ]
  },
  {
   "cell_type": "markdown",
   "id": "7123af5a",
   "metadata": {},
   "source": [
    "###  <span style='color:#3A40A2 '> Sentencia *while* </span>\n",
    "\n",
    "```Python\n",
    "while something == True:\n",
    "    #do something\n",
    "```"
   ]
  },
  {
   "cell_type": "code",
   "execution_count": 5,
   "id": "1d41d038",
   "metadata": {},
   "outputs": [
    {
     "name": "stdout",
     "output_type": "stream",
     "text": [
      "Ingrese un entero  par: 5\n",
      "El número ingresado no es par, nos vemos!\n"
     ]
    }
   ],
   "source": [
    "entero = input(\"Ingrese un entero  par: \")\n",
    "while int(entero)%2 == 0.:\n",
    "    print(\"El número ingresado es par\" + \"\\n\")\n",
    "    entero = input(\"Ingrese otro entero  par: \")\n",
    "print(\"El número ingresado no es par, nos vemos!\")"
   ]
  },
  {
   "cell_type": "markdown",
   "id": "b371d87f",
   "metadata": {},
   "source": [
    "### <span style='color:#3A40A2 '> Sentencias *break* y *continue* </span>\n",
    "\n",
    "En python, las sentencias *break* y *continue* pueden alterar el flujo normal de un loop.\n",
    "\n",
    "Los loops iteran sobre un bloque de código hasta que la expresión de testeo da falso, pero a veces quisieramos terminar la iteracción o incluso un loop entero sin chequear la expresión de testeo.\n",
    "\n",
    "Las sentencias *break* y *continue* sirven justamente para esto.\n",
    "\n",
    "La sentencia *break* finaliza el loop que lo contiene. En los casos de que el break este dentro de un loop anidado (un loop adentro de otro loop) el *break* finalizará el loop más interno.\n",
    "\n",
    "La sentencia *continue* es usada para saltear la parte del código dentro del loop que lo contiene solamente para la iteración en curso. El loop *no* termina, pero continuará la siguiente iteración."
   ]
  },
  {
   "cell_type": "code",
   "execution_count": 6,
   "id": "0622aa95",
   "metadata": {},
   "outputs": [
    {
     "name": "stdout",
     "output_type": "stream",
     "text": [
      "b\n",
      "b\n",
      "i\n"
     ]
    }
   ],
   "source": [
    "for letra in \"biomedics\":\n",
    "    print(letra)\n",
    "    if letra == \"i\":\n",
    "        break\n",
    "    print(letra)"
   ]
  },
  {
   "cell_type": "code",
   "execution_count": 7,
   "id": "d584b0f4",
   "metadata": {},
   "outputs": [
    {
     "name": "stdout",
     "output_type": "stream",
     "text": [
      "b\n",
      "o\n",
      "m\n",
      "e\n",
      "d\n",
      "c\n",
      "s\n"
     ]
    }
   ],
   "source": [
    "for letra in \"biomedics\":\n",
    "    if letra == \"i\":\n",
    "        continue\n",
    "    print(letra)"
   ]
  },
  {
   "cell_type": "markdown",
   "id": "928fbbe9",
   "metadata": {},
   "source": [
    "###  <span style='color:#3A40A2 '> Funciones para iteración </span>\n",
    "\n",
    "#### <span style='color:#f95441 '> Iterador *enumerate()* </span>\n",
    "\n",
    "En algunas ocasiones en un for es útil iterar sobre el elemento *𝑖-é𝑠𝑖𝑚𝑜* y también queremos el índice que está siendo iterado, para esto usamos ***[enumerate()](https://docs.python.org/3/library/functions.html#enumerate)***. Esta función recibe como parámetro una secuencia, un [iterador](https://docs.python.org/3/glossary.html#term-iterator) o algún objeto que soporte iteración.\n",
    "\n",
    "Su sintáxis es la siguiente,\n",
    "\n",
    "```Python\n",
    "enumerate(iterable, start=0)\n",
    "```"
   ]
  },
  {
   "cell_type": "code",
   "execution_count": 8,
   "id": "80875299",
   "metadata": {},
   "outputs": [
    {
     "name": "stdout",
     "output_type": "stream",
     "text": [
      "La palabra es programación y el índice es el número 0\n",
      "La palabra es digital y el índice es el número 1\n",
      "La palabra es avanzada y el índice es el número 2\n"
     ]
    },
    {
     "data": {
      "text/plain": [
       "[(0, 'programación'), (1, 'digital'), (2, 'avanzada')]"
      ]
     },
     "execution_count": 8,
     "metadata": {},
     "output_type": "execute_result"
    }
   ],
   "source": [
    "uc = [\"programación\", \"digital\", \"avanzada\"]\n",
    "\n",
    "for index, palabra in enumerate(uc):\n",
    "    print(f\"La palabra es {palabra} y el índice es el número {index}\")\n",
    "\n",
    "var = enumerate(uc)\n",
    "[*var]\n",
    "### EJERCICIO RÁPIDO\n",
    "### ¿Cómo podría obtenerse una salida similar a la anterior pero sin usar enumerate()?"
   ]
  },
  {
   "cell_type": "markdown",
   "id": "76e0bf83",
   "metadata": {},
   "source": [
    "Una inspección rápida nos permite ver que *enmumerate()* nos entrega una tupla, la cual es un objeto iterable. Veamos,"
   ]
  },
  {
   "cell_type": "code",
   "execution_count": 9,
   "id": "38f9cc01",
   "metadata": {},
   "outputs": [],
   "source": [
    "## ¿Qué hace realmente enumerate? -> Descomprimiendo un iterador\n",
    "iterador = enumerate(uc)\n",
    "# to do..."
   ]
  },
  {
   "cell_type": "markdown",
   "id": "e3bb91de",
   "metadata": {},
   "source": [
    "#### <span style='color:#f95441 '> Iterador *zip()* </span>\n",
    "\n",
    "A veces quisiéramos iterar varios objetos iterables en paralelo, esto lo podemos hacer con ***[zip()](https://docs.python.org/3/library/functions.html#enumerate)***. Esta función devuelve una lista de tuplas.\n",
    "\n",
    "```Python\n",
    "zip(*iterables, strict=False)\n",
    "```\n",
    "\n",
    "Prestar atención al operador * dentro de la función zip() ya que nos indica que podemos pasarle *cualquier* cantidad de iterables."
   ]
  },
  {
   "cell_type": "code",
   "execution_count": 10,
   "id": "3ea1df48",
   "metadata": {},
   "outputs": [
    {
     "name": "stdout",
     "output_type": "stream",
     "text": [
      "*********************************************\n",
      "[(1.1, 'señales'), (2.2, 'y'), (3.3, 'sistemas')]\n",
      "*********************************************\n",
      "Recorremos for\n",
      "1.1 señales\n",
      "2.2 y\n",
      "3.3 sistemas\n"
     ]
    }
   ],
   "source": [
    "valores = [1.1,2.2,3.3]\n",
    "uc = [\"señales\", \"y\", \"sistemas\"]\n",
    "\n",
    "zipeado = zip(valores,uc)\n",
    "print(\"*********************************************\")\n",
    "print(list(zipeado))\n",
    "print(\"*********************************************\")\n",
    "\n",
    "# #Recorremos la lista entregada por la función zip\n",
    "print(\"Recorremos for\")\n",
    "for valor, palabra in zip(valores,uc):\n",
    "    print(valor, palabra)"
   ]
  },
  {
   "cell_type": "markdown",
   "id": "3f109294",
   "metadata": {},
   "source": [
    "¿Qué pasaría si en el ejemplo anterior en vez de ingresar un número entero ingresamos una palabra?"
   ]
  },
  {
   "cell_type": "markdown",
   "id": "97ea1c82",
   "metadata": {},
   "source": [
    "\n",
    "#### <span style='color:#3A40A2 '> Sentencia *pass* (bonus)</span>\n",
    "\n",
    "Esta sentencia se utiliza como un *marcador* o *place holder* donde eventualmente se implementará algo. \n",
    "\n",
    "```Python\n",
    "#dejamos un pass ya que luego agregaremos alguna funcionalidad\n",
    "\n",
    "def func(args):\n",
    "    pass\n",
    "\n",
    "class Clase():\n",
    "    pass\n",
    "```"
   ]
  },
  {
   "cell_type": "markdown",
   "id": "346d5296",
   "metadata": {},
   "source": [
    "<hr style=\"border:1px solid gray\"> </hr>\n",
    "\n",
    "##  <span style='color:#3A40A2 '> Tipos de datos numéricos </span>"
   ]
  },
  {
   "cell_type": "markdown",
   "id": "daa1bb52",
   "metadata": {},
   "source": [
    "###   <span style='color:#f95441 '> *int* </span>\n",
    "\n",
    "Números positivos y negativos no decimales. Python gestiona el tamaño de memoria del número de manera automática.\n",
    "\n",
    "Es posible declarar números binarios, octales y hexadecimales. \n",
    "\n",
    "Utilizando la función *type()* se puede ver el tipo de dato asociado a cierta variable."
   ]
  },
  {
   "cell_type": "code",
   "execution_count": 11,
   "id": "ede7f79d",
   "metadata": {},
   "outputs": [
    {
     "name": "stdout",
     "output_type": "stream",
     "text": [
      "3 15 15 15\n",
      "La variable n es de tipo <class 'int'>\n"
     ]
    }
   ],
   "source": [
    "n = 3\n",
    "b = 0b1111 #15 en binario\n",
    "o = 0o17 # 15 en octal\n",
    "h = 0xf #15 en hexadecimal\n",
    "\n",
    "print(n, b, o, h)\n",
    "\n",
    "#Observar que no hay ningún \".\" luego de los números impresos, lo cual indica que son enteros.\n",
    "#Podemos chequear esto usando tyoe()\n",
    "\n",
    "print(f\"La variable n es de tipo {type(n)}\")"
   ]
  },
  {
   "cell_type": "markdown",
   "id": "ab3e7a95",
   "metadata": {},
   "source": [
    "**Importante:** Observar que la salida de *type()* es **class 'int'**, lo cual indica que un *int* en Python es un **Objeto**. Veremos más adelante que **todo** en Python es manejado como un objeto."
   ]
  },
  {
   "cell_type": "markdown",
   "id": "ad7f74f4",
   "metadata": {},
   "source": [
    "###  <span style='color:#f95441 '> *float* </span>\n",
    "\n",
    "Se utilizan para representar números reales. No tienen precisión infinita.\n",
    "\n",
    "Cuidado con usar variables flotantes dentro de estructuras de control.\n",
    "\n",
    "Podemos excribir números flotantes utilizando notación científica mediante la letra **e**."
   ]
  },
  {
   "cell_type": "code",
   "execution_count": 12,
   "id": "24506fd7",
   "metadata": {},
   "outputs": [
    {
     "name": "stdout",
     "output_type": "stream",
     "text": [
      "2.5 4.0 299000000.0\n",
      "<class 'float'>\n"
     ]
    }
   ],
   "source": [
    "n = 2.5\n",
    "m = float(4)\n",
    "c = 2.99e8\n",
    "\n",
    "print(n, m, c) #Prestar atención a que los números poseen un \".\" indicando que son números PUNTO FLOTANTE\n",
    "\n",
    "print(type(c))"
   ]
  },
  {
   "cell_type": "markdown",
   "id": "fae98a5d",
   "metadata": {},
   "source": [
    "Si queremos saber cual es la presición máxima de números flotantes que podemos representar podemos verlo usando la librería *sys* nativa de Python."
   ]
  },
  {
   "cell_type": "code",
   "execution_count": 13,
   "id": "752ad667",
   "metadata": {},
   "outputs": [
    {
     "name": "stdout",
     "output_type": "stream",
     "text": [
      "Valor negativo mínimo, 2.2250738585072014e-308\n",
      "Valor negativo máximo, 1.7976931348623157e+308\n"
     ]
    }
   ],
   "source": [
    "import sys\n",
    "\n",
    "print(f\"Valor negativo mínimo, {sys.float_info.min}\")\n",
    "print(f\"Valor negativo máximo, {sys.float_info.max}\")"
   ]
  },
  {
   "cell_type": "markdown",
   "id": "ac1ff40e",
   "metadata": {},
   "source": [
    "###  <span style='color:#f95441 '> *complex* </span>\n",
    "\n",
    "Python permite realizar operaciones básicas con números complejos.\n",
    "\n",
    "Para declarar un número complejo basta con agregar la letra *j* luego del número que representa la parte imaginaria en cuestión o bien utilizar la función *complex()*.\n",
    "\n",
    "```Python\n",
    "#declarando un número complejo\n",
    "c1 = n + mj #n es la parte real y me es la parte imaginaria\n",
    "c2 = complex(n, m) #n es la parte real y me es la parte imaginaria\n",
    "```"
   ]
  },
  {
   "cell_type": "code",
   "execution_count": 14,
   "id": "a15b27bb",
   "metadata": {},
   "outputs": [],
   "source": [
    "c1 = 25 + 50j\n",
    "c2 = complex(50,100)\n",
    "\n",
    "# print(f\"La parte real de c1 es {c1.real}\")\n",
    "# print(f\"La parte imaginaria de c1 es {c1.imag}\")\n",
    "\n",
    "# print(f\"c1+c2 = {c1+c2}\")\n",
    "# print(f\"c2-c1 = {c2-c1}\")\n",
    "\n",
    "# print(f\"El tipo de c1 es, {type(c1)}\")"
   ]
  },
  {
   "cell_type": "markdown",
   "id": "9b401e5c",
   "metadata": {},
   "source": [
    "##### cmath\n",
    "\n",
    "Es poible utilizar la libreria *cmath* para realizar operaciones más complejas con estos tipos de variables numéricas.\n",
    "\n",
    "Veamos algunos ejemplos"
   ]
  },
  {
   "cell_type": "code",
   "execution_count": 15,
   "id": "1461b1d0",
   "metadata": {},
   "outputs": [
    {
     "name": "stdout",
     "output_type": "stream",
     "text": [
      "La fase de c1 es 1.107\n",
      "La forma polar de c2 es (111.803, 1.107)\n"
     ]
    }
   ],
   "source": [
    "import cmath\n",
    "\n",
    "print(f\"La fase de c1 es {cmath.phase(c1):.3f}\")\n",
    "polar = cmath.polar(c2)\n",
    "print(f\"La forma polar de c2 es ({polar[0]:.3f}, {polar[1]:.3f})\")"
   ]
  },
  {
   "cell_type": "markdown",
   "id": "f778889c",
   "metadata": {},
   "source": [
    "Veremos más adelante que es posible usar la librería ***numpy*** para operar números complejos con muchísima mayor eficacia."
   ]
  },
  {
   "cell_type": "markdown",
   "id": "f11c5cbb",
   "metadata": {},
   "source": [
    "##  <span style='color:#3A40A2 '> Sets </span>\n",
    "\n",
    "Los sets en Python permiten almacenar cualquier tipo de datos y poseen las siguientes características,\n",
    "- Sus elementos son únicos.\n",
    "- Son desordenados, eso significa que sus elementos no mantienen el orden una vez creado el set.\n",
    "- Los elementos que lo conforman deben ser inmutables (no podríamos poner una lista como elemento de un set).\n",
    "\n",
    "Los set se crean mediante el objeto set() o bien pasando los elementos entre {}.\n",
    "\n",
    "Los sets **no pueden ser indexados** y por lo tanto no soportan slicing."
   ]
  },
  {
   "cell_type": "code",
   "execution_count": 16,
   "id": "2dfb615c",
   "metadata": {},
   "outputs": [
    {
     "name": "stdout",
     "output_type": "stream",
     "text": [
      "tipo de dato de nombres <class 'set'>\n",
      "\n",
      "{'floki', 'ragnar', 'lagertha', 'bjorn'}\n",
      "\n",
      "Imprimiendo set abracadabra\n",
      "{'d', 'b', 'r', 'c', 'a'}\n",
      "\n",
      "el nombre ragnar si esta en el set\n"
     ]
    }
   ],
   "source": [
    "nombres = {'ragnar', 'floki', 'lagertha', 'bjorn'}\n",
    "emptySet = set()\n",
    "abracadabra = set(\"abracadabra\")\n",
    "\n",
    "print(f\"tipo de dato de nombres {type(nombres)}\")\n",
    "print()\n",
    "\n",
    "#cada elemento dentro de un set es único\n",
    "nombresRepetidos = {'ragnar', 'floki', 'lagertha', 'bjorn', 'ragnar', 'floki', 'lagertha', 'bjorn'}\n",
    "print(nombresRepetidos)\n",
    "print()\n",
    "\n",
    "print(f\"Imprimiendo set abracadabra\")\n",
    "print(abracadabra)\n",
    "print()\n",
    "\n",
    "#podemos evaluar si algún nombre existe dentro del set\n",
    "nombre = \"ragnar\"\n",
    "if nombre in nombres:\n",
    "    print(f\"el nombre {nombre} si esta en el set\")\n",
    "else:\n",
    "    print(f\"El nombre {nombre} no esta en el set\")"
   ]
  },
  {
   "cell_type": "markdown",
   "id": "82bf0724",
   "metadata": {},
   "source": [
    "**Propiedad de los sets**: Los sets poseen la propiedad que pueden ser utilizados con operadores binarios."
   ]
  },
  {
   "cell_type": "code",
   "execution_count": 17,
   "id": "fb01fc54",
   "metadata": {},
   "outputs": [
    {
     "name": "stdout",
     "output_type": "stream",
     "text": [
      "{'bjorn', 'floki', 'ragnar', 'lagertha', 'thor'}\n",
      "\n",
      "{'floki', 'bjorn'}\n",
      "\n",
      "{'ragnar', 'lagertha'}\n",
      "\n",
      "{'floki', 'bjorn', 'thor'}\n"
     ]
    }
   ],
   "source": [
    "set1 = {'ragnar', 'floki', 'lagertha', 'bjorn'}\n",
    "set2 = {\"ragnar\", \"lagertha\", \"thor\"}\n",
    "set3 = {\"thor\", \"ragar\"}\n",
    "\n",
    "#nombres en set1 o set 2\n",
    "print(set1|set2) \n",
    "print()\n",
    "\n",
    "#nombres set1 pero no en set2\n",
    "print(set1-set2)\n",
    "print()\n",
    "\n",
    "#nombres que sólo estén en set1 y set2\n",
    "print(set1&set2)\n",
    "print()\n",
    "\n",
    "#nombres que estén en un set pero no en ambos\n",
    "print(set1^set2)"
   ]
  },
  {
   "cell_type": "markdown",
   "id": "9c1f7cad",
   "metadata": {},
   "source": [
    "Podemos crear una lista de valores que no tengan datos repetidos."
   ]
  },
  {
   "cell_type": "code",
   "execution_count": 18,
   "id": "89a64939",
   "metadata": {},
   "outputs": [
    {
     "name": "stdout",
     "output_type": "stream",
     "text": [
      "['floki', 'ragnar', 'lagertha', 'bjorn']\n",
      "<class 'list'>\n"
     ]
    }
   ],
   "source": [
    "nombresRepetidos = ['ragnar', 'floki', 'lagertha', 'bjorn', 'ragnar', 'floki', 'lagertha', 'bjorn'] #lista con nombres repetidos\n",
    "nombresSinRepetir = [*set(nombresRepetidos)] #lista con nombres sin repetir. El operador * se usa para \"unpacking\"\n",
    "\n",
    "print(nombresSinRepetir)\n",
    "print(type(nombresSinRepetir))"
   ]
  },
  {
   "cell_type": "markdown",
   "id": "0b8477e6",
   "metadata": {},
   "source": [
    "Al igual que las listas, los sets también son objetos y por lo tanto tienen métodos que permiten agregar, quitar, buscar.\n",
    "\n",
    "Se recomienda leer la [documetnación](https://docs.python.org/3/library/stdtypes.html#set) oficial para conocer más."
   ]
  },
  {
   "cell_type": "markdown",
   "id": "4ab28ec0",
   "metadata": {},
   "source": [
    "#### <span style='color:#f95441 '>Algunos métodos de los *sets*</span>\n",
    "\n",
    "- *intersection():* Nos devuelve un set con los elementos que están presentes en el set 1 y en el set 2.\n",
    "- *difference():* Retorna un set con los elementos que están en un set pero no en el otro\n",
    "- *symmetric_difference:*  Retorna un set con todos aquellos elementos que están en uno u otro set, pero no en ambos.\n",
    "- *union():* Retorna un set de elementos que están en ambos sets, los duplicados son excluídos.\n",
    "\n",
    "Estós métodos pueden ser útiles para trabajar con diagramas de Venn.\n",
    "\n",
    "![Venn](venn.png)"
   ]
  },
  {
   "cell_type": "markdown",
   "id": "9a4c6147",
   "metadata": {},
   "source": [
    "##  <span style='color:#3A40A2 '> Tuplas </span>\n",
    "\n",
    "Las tuplas son un tipo de datos inmutables que se definen entre paréntesis o con la función *tuple()*.\n",
    "\n",
    "Más información [acá](https://docs.python.org/3/tutorial/datastructures.html#tuples-and-sequences) y [acá](https://docs.python.org/3/c-api/tuple.html)"
   ]
  },
  {
   "cell_type": "code",
   "execution_count": 19,
   "id": "5121fd67",
   "metadata": {},
   "outputs": [
    {
     "name": "stdout",
     "output_type": "stream",
     "text": [
      "((1, 2, 3), (4, 5, 6))\n",
      "(1, 2, 3)\n",
      "\n",
      "1\n",
      "2\n",
      "3\n",
      "4\n",
      "5\n",
      "6\n",
      "<class 'str'>\n",
      "<class 'tuple'>\n"
     ]
    }
   ],
   "source": [
    "tup1 = tuple((1,2,3))\n",
    "tup2 = (4,5,6)\n",
    "tuplasAnidadas = (tup1,tup2)\n",
    "\n",
    "print(tuplasAnidadas)\n",
    "print(tuplasAnidadas[0])\n",
    "print()\n",
    "\n",
    "for fila in range(len(tuplasAnidadas)):\n",
    "    for columna in range(len(tuplasAnidadas[0])):\n",
    "        print(tuplasAnidadas[fila][columna])\n",
    "\n",
    "## NOTA 1: Un solo valor entre paréntesis no es una tupla\n",
    "noTupla = (\"a\")\n",
    "print(type(noTupla))\n",
    "## Para que sea una tupla debe terminarse con una ,\n",
    "siTupla = (\"a\",)\n",
    "print(type(siTupla))"
   ]
  },
  {
   "cell_type": "markdown",
   "id": "6108aac2",
   "metadata": {},
   "source": [
    "Si creamos una tupla a partir de una secueicna (listas, strings, tuplas) obtenemos una tupla con los elementos de la secuencia"
   ]
  },
  {
   "cell_type": "code",
   "execution_count": 20,
   "id": "5b232f69",
   "metadata": {},
   "outputs": [
    {
     "data": {
      "text/plain": [
       "('b', 'i', 'o', 'm', 'é', 'd', 'i', 'c', 'a')"
      ]
     },
     "execution_count": 20,
     "metadata": {},
     "output_type": "execute_result"
    }
   ],
   "source": [
    "tupla = tuple(\"biomédica\")\n",
    "tupla"
   ]
  },
  {
   "cell_type": "markdown",
   "id": "c1899be8",
   "metadata": {},
   "source": [
    "¿Qué pasaría si quisieramos cambiar el valor de uno de los datos dentro de una tupla?"
   ]
  },
  {
   "cell_type": "code",
   "execution_count": 22,
   "id": "ef980abc",
   "metadata": {},
   "outputs": [
    {
     "ename": "TypeError",
     "evalue": "'tuple' object does not support item assignment",
     "output_type": "error",
     "traceback": [
      "\u001b[1;31m---------------------------------------------------------------------------\u001b[0m",
      "\u001b[1;31mTypeError\u001b[0m                                 Traceback (most recent call last)",
      "\u001b[1;32m~\\AppData\\Local\\Temp/ipykernel_15936/1460044030.py\u001b[0m in \u001b[0;36m<module>\u001b[1;34m\u001b[0m\n\u001b[0;32m      1\u001b[0m \u001b[1;31m#Cambiando valor de uno de los datos dentro de una tupla\u001b[0m\u001b[1;33m\u001b[0m\u001b[1;33m\u001b[0m\u001b[0m\n\u001b[1;32m----> 2\u001b[1;33m \u001b[0mtup2\u001b[0m\u001b[1;33m[\u001b[0m\u001b[1;36m1\u001b[0m\u001b[1;33m]\u001b[0m \u001b[1;33m=\u001b[0m \u001b[1;36m5\u001b[0m\u001b[1;33m\u001b[0m\u001b[1;33m\u001b[0m\u001b[0m\n\u001b[0m",
      "\u001b[1;31mTypeError\u001b[0m: 'tuple' object does not support item assignment"
     ]
    }
   ],
   "source": [
    "#Cambiando valor de uno de los datos dentro de una tupla\n",
    "tup2[1] = 5"
   ]
  },
  {
   "cell_type": "markdown",
   "id": "1f944acd",
   "metadata": {},
   "source": [
    "##### Anidando tuplas\n",
    "\n",
    "Las tuplas también se pueden anidar y además soportan el slicing."
   ]
  },
  {
   "cell_type": "code",
   "execution_count": 23,
   "id": "5ec3d133",
   "metadata": {},
   "outputs": [
    {
     "name": "stdout",
     "output_type": "stream",
     "text": [
      "((1, 'banana'), (2, 'sandía'), (3, 'frutilla'), (4, 'ciruela'))\n",
      "(1, 'banana')\n",
      "sandía\n",
      "['banana', 'sandía', 'frutilla']\n"
     ]
    }
   ],
   "source": [
    "orden = [1,2,3,4]\n",
    "frutas = [\"banana\", \"sandía\", \"frutilla\",\"ciruela\"]\n",
    "\n",
    "tuplas = tuple(zip(orden,frutas)) #genero una tupla que contiene tuplas\n",
    "\n",
    "print(tuplas)\n",
    "print(tuplas[0])\n",
    "print(tuplas[1][1])\n",
    "print(frutas[0:3])"
   ]
  },
  {
   "cell_type": "markdown",
   "id": "779421f9",
   "metadata": {},
   "source": [
    "**Nota:** Las tuplas son sumamente útiles cuando queremos asegurarnos de que los datos que contiene no cambien durante la ejecución de nuestro programa."
   ]
  },
  {
   "cell_type": "markdown",
   "id": "3e852a1b",
   "metadata": {},
   "source": [
    "#### <span style='color:#f95441 '>  Iterendo tuplas </span>\n",
    "\n",
    "Como hemos visto, las tuplas son iterables. Veamos algunos ejemplos con la tupla de tuplas creada anteriormente."
   ]
  },
  {
   "cell_type": "code",
   "execution_count": 24,
   "id": "bef0b9f7",
   "metadata": {},
   "outputs": [
    {
     "name": "stdout",
     "output_type": "stream",
     "text": [
      "(1, 2, 3)\n",
      "(4, 5, 6)\n",
      "\n",
      "1\n",
      "2\n",
      "3\n",
      "4\n",
      "5\n",
      "6\n"
     ]
    }
   ],
   "source": [
    "for tupla in tuplasAnidadas:\n",
    "    print(tupla)\n",
    "print()\n",
    "    \n",
    "for tupla in tuplasAnidadas:\n",
    "    for valor in tupla:\n",
    "        print(valor)"
   ]
  },
  {
   "cell_type": "markdown",
   "id": "50ee4b56",
   "metadata": {},
   "source": [
    "#### <span style='color:#f95441 '> *returning* tuplas</span>\n",
    "\n",
    "Las tuplas son útiles cuando queremos que una función o método devuelva más de un resultado,\n",
    "\n",
    "```Python\n",
    "def myFunc():\n",
    "    word1 = \"Hola\"\n",
    "    word2 = \"Mundo\"\n",
    "    return word1, word2\n",
    "```"
   ]
  },
  {
   "cell_type": "markdown",
   "id": "7a3fe989",
   "metadata": {},
   "source": [
    "#### <span style='color:#f95441 '> Importante: inmutabilidad de las tuplas</span>\n",
    "\n",
    "Hemos dicho que las tuplas son elementos *inmutables*, si bien esto es cierto, debemos tener en cuenta que la inmutabilidad de una tupla sólo se aplica a la *referencia* contenida en ella, es decir, al objeto/elemento que contiene. Las referencias de una tupla no pueden ser eliminadas ni reemplazadas y esto es lo que las hace inmutables. Sin embargo, si alguno de los elementos de la tupla sí es un objeto mutable, y dicho objeto es cambiado, entonces el valor de la tupla también cambia y por ende ya no es la misma tupla.\n",
    "\n",
    "Veamos esto último con un ejemplo."
   ]
  },
  {
   "cell_type": "code",
   "execution_count": 25,
   "id": "4f52daed",
   "metadata": {},
   "outputs": [
    {
     "name": "stdout",
     "output_type": "stream",
     "text": [
      "True\n",
      "False\n",
      "La tupla 2 ahora es (1, 'gamma', [10, 20, 30])\n"
     ]
    }
   ],
   "source": [
    "tupla1 = (1, 'gamma', [10, 20])\n",
    "tupla2 = (1, 'gamma', [10, 20])\n",
    "print(tupla1==tupla2) #podemos ver que tupla1 y tupla2 son iguales\n",
    "\n",
    "#Ahora vamos a agregar un valor a la lista de la tupla2\n",
    "\n",
    "tupla2[2].append(30)\n",
    "print(tupla1==tupla2) #Vemos que ahora las tuplas son diferentes debido a que hemos cambiado la lista\n",
    "print(\"La tupla 2 ahora es\", tupla2)"
   ]
  },
  {
   "cell_type": "markdown",
   "id": "9cd87102",
   "metadata": {},
   "source": [
    "##### Pregunta\n",
    "\n",
    "Observe las siguientes líneas de código aplicadas a las tuplas anteriores y responda, ¿es posible de realizar? ¿Sí? ¿No? ¿Por qué?\n",
    "\n",
    "```Python\n",
    "del tupla2[2][2]\n",
    "del tupla[2]\n",
    "```"
   ]
  },
  {
   "cell_type": "markdown",
   "id": "a77c2b11",
   "metadata": {},
   "source": [
    "**Nota:** Debemos ser cuidadosos cuando dentro de una tupla trabajamos con elementos mutables, ya que un descuido puede ser fuente de un bug o problema en nuestro programa."
   ]
  },
  {
   "cell_type": "markdown",
   "id": "bba7fca3",
   "metadata": {},
   "source": [
    "##  <span style='color:#3A40A2 '> Diccionarios </span>"
   ]
  },
  {
   "cell_type": "markdown",
   "id": "c518f275",
   "metadata": {},
   "source": [
    "Los [diccionarios](https://docs.python.org/3/tutorial/datastructures.html#dictionaries) son colecciones que almacenan datos con un par *llave/valor*.\n",
    "\n",
    "Puden ser creados utilizando el objeto *dict()* de la siguiente manera,"
   ]
  },
  {
   "cell_type": "code",
   "execution_count": 26,
   "id": "de8552b7",
   "metadata": {},
   "outputs": [
    {
     "data": {
      "text/plain": [
       "{'key1': 1, 'key2': 2, 'key3': 3}"
      ]
     },
     "execution_count": 26,
     "metadata": {},
     "output_type": "execute_result"
    }
   ],
   "source": [
    "dict1 = dict([(\"key1\",1),\n",
    "              (\"key2\",2),\n",
    "              (\"key3\",3)])\n",
    "dict1"
   ]
  },
  {
   "cell_type": "markdown",
   "id": "c0334e53",
   "metadata": {},
   "source": [
    "O bien utilizando *{}* y *:* para separar llave del valor y *,* para separar cada elemento o ítem."
   ]
  },
  {
   "cell_type": "code",
   "execution_count": 27,
   "id": "aea67dc6",
   "metadata": {},
   "outputs": [
    {
     "data": {
      "text/plain": [
       "5"
      ]
     },
     "execution_count": 27,
     "metadata": {},
     "output_type": "execute_result"
    }
   ],
   "source": [
    "dict2 = {\"key6\":6,\n",
    "         \"key5\":5,\n",
    "         \"key4\":4}\n",
    "\n",
    "dic3 = {\"lista1\":[1,2,34,5],\n",
    "        \"diccionaro\": {\"a\":\"a\", \"b\":[5,6,7]}}\n",
    "\n",
    "dic3[\"diccionaro\"][\"b\"][0]"
   ]
  },
  {
   "cell_type": "markdown",
   "id": "4bcdd473",
   "metadata": {},
   "source": [
    "Los diccionarios poseen las siguientes propiedades,\n",
    "\n",
    "- Son dinámicos, lo que quiere decir que podemos eliminar o agregar elementos o cambiar sus valores.\n",
    "- Son indexados a través de un *key*.\n",
    "- Perminten anidamiento o *nested*."
   ]
  },
  {
   "cell_type": "markdown",
   "id": "7b076254",
   "metadata": {},
   "source": [
    "#### <span style='color:#f95441 '>Operaciones y métodos básicos de diccionarios</span>\n",
    "\n",
    "Veamos algunas operaciones y métodos que poseen los diccionarios."
   ]
  },
  {
   "cell_type": "code",
   "execution_count": 28,
   "id": "22e41fee",
   "metadata": {},
   "outputs": [
    {
     "name": "stdout",
     "output_type": "stream",
     "text": [
      "Los elementos/ítems de dict1 son dict_items([('key1', 1), ('key2', 2), ('key3', 3)])\n",
      "Los keys de dict1 son dict_keys(['key1', 'key2', 'key3'])\n",
      "\n",
      "key1 de dict1 es 1\n"
     ]
    }
   ],
   "source": [
    "###Obteniendo los keys\n",
    "\n",
    "print(f\"Los elementos/ítems de dict1 son {dict1.items()}\")\n",
    "print(f\"Los keys de dict1 son {dict1.keys()}\")\n",
    "print()\n",
    "\n",
    "##Veamos que valor tiene el \"key1\" de dict1\n",
    "print(f\"key1 de dict1 es {dict1['key1']}\")"
   ]
  },
  {
   "cell_type": "markdown",
   "id": "5ee5ebc6",
   "metadata": {},
   "source": [
    "#### <span style='color:#f95441 '>Método *get()*</span>\n",
    "\n",
    "Si intentamos obtener un valor con alguna key que no exista, se producirá un error del tipo *KeyError*. Esto puede resultar en que el programa se *crashee*.\n",
    "\n",
    "Existen diferentes alternativas para lidiar con esto, una es utilizando *try* y *except* (las cuales veremos más adelante en el curso) o bien podemos aprovechar el método *get()* ya implementados en los diccionarios.\n",
    "\n",
    "Por otro lado, los diccionarios al igual que los sets poseen la propiedad de que podemos usar algunas palabras reservadas de Python para aprovecharlos al máximo. Tal es el caso de la palabra **in** la cual nos permite chequear si cierto valor se encuentra en una secuencia (lista, set, diccionario).\n",
    "\n",
    "Veamos."
   ]
  },
  {
   "cell_type": "code",
   "execution_count": 29,
   "id": "5f0630a4",
   "metadata": {},
   "outputs": [
    {
     "name": "stdout",
     "output_type": "stream",
     "text": [
      "El key sí existe\n",
      "\n",
      "El key no existe\n"
     ]
    }
   ],
   "source": [
    "if 'key1' in  dict1:\n",
    "    print(\"El key sí existe\")\n",
    "else:\n",
    "    print(\"El key no existe\")\n",
    "\n",
    "print()\n",
    "\n",
    "key = 'm'\n",
    "print(\"El existe\") if dict1.get(key) else print(\"El key no existe\")"
   ]
  },
  {
   "cell_type": "markdown",
   "id": "b8f9d11b",
   "metadata": {},
   "source": [
    "#### <span style='color:#f95441 '>Utilizando funciones *[built-in](https://docs.python.org/3/library/functions.html)*</span>\n",
    "\n",
    "Podemos usar diferentes funciones ya implementadas en Python para eliminar, agregar, ordenar alfabéticamente, conocer la longitud del diccionario, entre otros.\n",
    "\n",
    "Veamos algunos ejemplos."
   ]
  },
  {
   "cell_type": "code",
   "execution_count": 30,
   "id": "aa5780cc",
   "metadata": {},
   "outputs": [
    {
     "name": "stdout",
     "output_type": "stream",
     "text": [
      "Tamaño dict1 3\n",
      "\n",
      "Ordenando dict2 ['key4', 'key5', 'key6']\n",
      "El orden original de dict2 es {'key6': 6, 'key5': 5, 'key4': 4}\n",
      "\n",
      "{'key5': 5, 'key4': 4}\n"
     ]
    }
   ],
   "source": [
    "##Tamaño del diccionario\n",
    "print(f\"Tamaño dict1 {len(dict1)}\")\n",
    "print()\n",
    "\n",
    "# Ordenando un diccionario\n",
    "print(f\"Ordenando dict2 {sorted(dict2)}\")\n",
    "print(f\"El orden original de dict2 es {dict2}\")\n",
    "print()\n",
    "\n",
    "#Eliminando un elemento\n",
    "del dict2['key6']\n",
    "print(dict2)"
   ]
  },
  {
   "cell_type": "markdown",
   "id": "a6cb4748",
   "metadata": {},
   "source": [
    "#### <span style='color:#f95441 '>Iterando diccionarios</span>\n",
    "\n",
    "Al igual que las listas, los sets y las tuplas, los diccionarios también pueden ser iterados. Es importante recordar que los diccionarios a diferencia de los objetos mencionados anteriormente **no se acceden** con indexacción numérica sino a partir de un **key**."
   ]
  },
  {
   "cell_type": "code",
   "execution_count": 31,
   "id": "05877677",
   "metadata": {},
   "outputs": [
    {
     "name": "stdout",
     "output_type": "stream",
     "text": [
      "fm = 250.0\n",
      "lfrec = 5.0\n",
      "hfrec = 30.0\n",
      "order = 6\n",
      "sampling_rate = 250.0\n",
      "bandStop = 50.0\n",
      "window = 2\n",
      "shiftLen = 2\n",
      "ti = 0.0\n",
      "tf = 2.0\n",
      "calc1stArmonic = False\n",
      "filterBank = v1\n"
     ]
    }
   ],
   "source": [
    "fm = 250.\n",
    "window = 2\n",
    "ti = 0.\n",
    "tf = 2.\n",
    "calc1stArmonic = False\n",
    "filterBankVersion = \"v1\"\n",
    "\n",
    "#Creo mi diccionario\n",
    "PRE_PROCES_PARAMS = {\n",
    "                'fm': fm,\n",
    "                'lfrec': 5.,\n",
    "                'hfrec': 30.,\n",
    "                'order': 6,\n",
    "                'sampling_rate': fm,\n",
    "                'bandStop': 50.,\n",
    "                'window': window,\n",
    "                'shiftLen':window,\n",
    "                'ti': ti, 'tf':tf,\n",
    "                'calc1stArmonic': calc1stArmonic,\n",
    "                'filterBank': filterBankVersion\n",
    "                }\n",
    "\n",
    "for llave, valor in PRE_PROCES_PARAMS.items():\n",
    "    print(f\"{llave} = {valor}\")"
   ]
  },
  {
   "cell_type": "markdown",
   "id": "7d3d2873",
   "metadata": {},
   "source": [
    "##  <span style='color:#3A40A2 '> Listas </span>\n",
    "\n",
    "Las listas son un tipo de datos en Python que permiten almacenar cualquier otro tipo de dato. Son mutables y dinámicas.\n",
    "\n",
    "Las listas se crean mediante la función [*list()*](https://docs.python.org/3/tutorial/datastructures.html) o bien utilizando brackets **[]**. Recordar que en Python los índices comienzan en **0**.\n",
    "\n",
    "Las listas poseen las siguientes propiedades básicas\n",
    "\n",
    "- Son ordenadas. Esto significa que el orden de los valores dentro de la misma se mantienen (a menos que se los cambie).\n",
    "- Podemos colocar cualquier tipo de dato dentro de una lista, y con *cualquier cosa* se quiere decir que podemos poner cualquier objeto como elemento de la lista.\n",
    "- Podemos acceder a los elementos de la lista mediante indexaxión con *[i]*, donde *i* es el índice del elemento al cual queremos acceder.\n",
    "- Permiten el *anidamiento*, es decir, podemos poner listas dentro de otra lista.\n",
    "- Son mutables y también son dinámicas."
   ]
  },
  {
   "cell_type": "code",
   "execution_count": 32,
   "id": "1cf5bef2",
   "metadata": {},
   "outputs": [
    {
     "name": "stdout",
     "output_type": "stream",
     "text": [
      "listaDeCosas posee 5 elementos\n",
      "\n",
      "En la posición 1 de listaDeCosas tenemos hola\n",
      "El últmo valor de listaDeCosas es 3.14\n",
      "\n",
      "El últmo valor de listaDeCosas ahora es 9.18\n",
      "\n"
     ]
    }
   ],
   "source": [
    "#Creando algunas listas\n",
    "\n",
    "empty_list = []\n",
    "anotherEmptyList = list()\n",
    "listaDeCosas= [1, \"hola\", {'carrera': 'biomédica'}, empty_list, 3.14]\n",
    "nums = [0,1,2,3,4,5,6,7,8,9]\n",
    "    \n",
    "\n",
    "#¿Cuantos ítems tiene la lista listaDeCosas?\n",
    "print(f\"listaDeCosas posee {len(listaDeCosas)} elementos\")\n",
    "print()\n",
    "\n",
    "#Accediendo al valor de la posición 1 de listaDeCosas\n",
    "print(f\"En la posición 1 de listaDeCosas tenemos {listaDeCosas[1]}\")\n",
    "\n",
    "#Podemos acceder al último elemento de una lista con un -1\n",
    "print(f\"El últmo valor de listaDeCosas es {listaDeCosas[-1]}\")\n",
    "print()\n",
    "\n",
    "#Podemos cambiar el valor del dato dentro de la lista mediante asignación utilizando el correspondiente índice\n",
    "listaDeCosas[4] = 9.18 #asigno el valor 9.18 a la posición 5 de la lista\n",
    "print(f\"El últmo valor de listaDeCosas ahora es {listaDeCosas[-1]}\")\n",
    "print()"
   ]
  },
  {
   "cell_type": "markdown",
   "id": "262e6bde",
   "metadata": {},
   "source": [
    "#### <span style='color:#f95441 '>Slicing de listas</span>\n",
    "\n",
    "Podemos utilizar el operador dos puntos \":\" para indicar un indice de inicio y otro de final dentro de una lista"
   ]
  },
  {
   "cell_type": "code",
   "execution_count": 33,
   "id": "29cc4a10",
   "metadata": {},
   "outputs": [
    {
     "name": "stdout",
     "output_type": "stream",
     "text": [
      "Los valores dentro de nums correspondientes a 2:5 son, [2, 3, 4]\n",
      "Recorriendo nums de a dos en dos [0, 2, 4, 6, 8]\n"
     ]
    }
   ],
   "source": [
    "print(f\"Los valores dentro de nums correspondientes a 2:5 son, {nums[2:5]}\")\n",
    "#Prestar atención que hacer nums[2:5] devuelve los valores dentro de la lista nums que van del ítem 2 al 4, sin contar el 5\n",
    "\n",
    "#Podríamos recorrer la lista de a pasos de a 2\n",
    "print(f\"Recorriendo nums de a dos en dos {nums[::2]}\")"
   ]
  },
  {
   "cell_type": "markdown",
   "id": "69bb51ab",
   "metadata": {},
   "source": [
    "#### <span style='color:#f95441'>Algunos métodos de las listas</span>\n",
    "\n",
    "Cómo todo objeto, las listas* poseen diferentes métodos que permiten interactuar con ellas.\n",
    "\n",
    "Veamos un par de ejemplos. Por otro lado, se recomienda leer la [documentación oficial](https://docs.python.org/3/tutorial/datastructures.html)."
   ]
  },
  {
   "cell_type": "code",
   "execution_count": 34,
   "id": "be751586",
   "metadata": {},
   "outputs": [
    {
     "name": "stdout",
     "output_type": "stream",
     "text": [
      "ya no soy una lista vacía\n",
      "\n",
      "['ya no soy una lista vacía', 'O', 't', 'r', 'o', ' ', 'n', 'u', 'e', 'v', 'o', ' ', 'v', 'a', 'l', 'o', 'r', ' ', 'a', ' ', 'l', 'a', ' ', 'l', 'i', 's', 't', 'a']\n",
      "\n",
      "['ya no soy una lista vacía', 'O', 't', 'r', 'o', ' ', 'n', 'u', 'e', 'v', 'o', ' ', 'v', 'a', 'l', 'o', 'r', ' ', 'a', ' ', 'l', 'a', ' ', 'l', 'i', 's', 't', 'a', 1, 'hola', {'carrera': 'biomédica'}, [...], 9.18]\n",
      "\n",
      "El número 41 se encuentra en el índice 4\n"
     ]
    }
   ],
   "source": [
    "##Agregemos un valor a la lista empty_list con append()\n",
    "\n",
    "empty_list.append(\"ya no soy una lista vacía\")\n",
    "print(empty_list[0])\n",
    "print()\n",
    "\n",
    "#También podemos usar sobrecarga de operador += para agregar un elemento a una lista\n",
    "empty_list += \"Otro nuevo valor a la lista\"\n",
    "print(empty_list)\n",
    "print()\n",
    "\n",
    "#Agregando todos los valores de una lista a otra mediante extend()\n",
    "empty_list.extend(listaDeCosas)\n",
    "print(empty_list)\n",
    "print()\n",
    "\n",
    "#Buscando el índice de un dato dentro de una lista\n",
    "\n",
    "listaNum = [*range(1,101,10)]\n",
    "print(f\"El número 41 se encuentra en el índice {listaNum.index(41)}\")"
   ]
  },
  {
   "cell_type": "markdown",
   "id": "06863970",
   "metadata": {},
   "source": [
    "**NOTA**: Las listas poseen sobrecarga de operadores, por ejemplo, podríamos usar el operador **+** para extender dos listas, similar a lo que hace el método extend."
   ]
  },
  {
   "cell_type": "code",
   "execution_count": 35,
   "id": "fd9f40e1",
   "metadata": {},
   "outputs": [
    {
     "data": {
      "text/plain": [
       "['hola', 'mundo']"
      ]
     },
     "execution_count": 35,
     "metadata": {},
     "output_type": "execute_result"
    }
   ],
   "source": [
    "lista3 = [\"hola\"]\n",
    "lista4 = [\"mundo\"]\n",
    "\n",
    "lista5 = lista3 + lista4\n",
    "lista5"
   ]
  },
  {
   "cell_type": "markdown",
   "id": "21ea91f7",
   "metadata": {},
   "source": [
    "#### <span style='color:#f95441 '>  Anidando listas </span>\n",
    "\n",
    "Podemos anidar listas de una manera sencilla, veamos."
   ]
  },
  {
   "cell_type": "code",
   "execution_count": 36,
   "id": "fa628963",
   "metadata": {},
   "outputs": [
    {
     "name": "stdout",
     "output_type": "stream",
     "text": [
      "La lista completa es: [[1, 2, 3], [4, 5, 6]]\n",
      "El primer índice de la lista es: [1, 2, 3]\n",
      "El valor de los índices [1][2] es: 6\n"
     ]
    }
   ],
   "source": [
    "lista1 = [1,2,3]\n",
    "lista2 = [4,5,6]\n",
    "\n",
    "listaAnidada = [lista1,lista2]\n",
    "\n",
    "print(f\"La lista completa es: {listaAnidada}\")\n",
    "print(f\"El primer índice de la lista es: {listaAnidada[0]}\")\n",
    "print(f\"El valor de los índices [1][2] es: {listaAnidada[1][2]}\")"
   ]
  },
  {
   "cell_type": "markdown",
   "id": "9524f6b6",
   "metadata": {},
   "source": [
    "#### <span style='color:#f95441 '>  Iterendo listas </span>\n",
    "\n",
    "Las listas son objetos iterables."
   ]
  },
  {
   "cell_type": "code",
   "execution_count": 37,
   "id": "cf99a820",
   "metadata": {},
   "outputs": [
    {
     "name": "stdout",
     "output_type": "stream",
     "text": [
      "[1, 2, 3]\n",
      "[4, 5, 6]\n",
      "1\n",
      "2\n",
      "3\n",
      "4\n",
      "5\n",
      "6\n"
     ]
    }
   ],
   "source": [
    "for i in listaAnidada:\n",
    "    print(i)\n",
    "    \n",
    "#O podemos imprimir índice a índice haciendo\n",
    "for fila in range(len(listaAnidada)):\n",
    "    for columna in range(len(listaAnidada[0])):\n",
    "        print(listaAnidada[fila][columna])"
   ]
  },
  {
   "cell_type": "markdown",
   "id": "e479132c",
   "metadata": {},
   "source": [
    "Si hago listaAnidada.append([7,8,9]) ¿cómo se verá listaAnidada? ¿por qué?"
   ]
  },
  {
   "cell_type": "code",
   "execution_count": 38,
   "id": "f0dc2bd7",
   "metadata": {},
   "outputs": [
    {
     "name": "stdout",
     "output_type": "stream",
     "text": [
      "La fruta 1 es banana\n",
      "La fruta 2 es sandía\n",
      "La fruta 3 es frutilla\n"
     ]
    }
   ],
   "source": [
    "#Iterando listas en paralelo con zip()\n",
    "\n",
    "orden = [1,2,3]\n",
    "frutas = [\"banana\", \"sandía\", \"frutilla\"]\n",
    "\n",
    "for o, fruta in zip(orden,frutas):\n",
    "    print(f\"La fruta {o} es {fruta}\")"
   ]
  },
  {
   "cell_type": "markdown",
   "id": "a96cd45d",
   "metadata": {},
   "source": [
    "##  <span style='color:#3A40A2 '> List Comprehension </span>\n",
    "\n",
    "La comprensión de listas o *“List Comprehension”* es una expresión que produce una lista a partir de aplicar una expresión/método/función a cada elemento de una colección.\n",
    "\n",
    "Su sintaxis es,\n",
    "\n",
    "```Python\n",
    "nuevaLista = [expresión for ítem in colección if condición]\n",
    "```\n",
    "\n",
    "- Son más rápidas que recorrer una lista con for y aplicar la expresión deseada.\n",
    "- Permite leer el código de manera más sencilla.\n",
    "- Esta funcionalidad es realmente potente porque podemos usar expresiones lógicas (if, or, and) para crear filtros."
   ]
  },
  {
   "cell_type": "markdown",
   "id": "c985a5d1",
   "metadata": {},
   "source": [
    "### Ejemplos"
   ]
  },
  {
   "cell_type": "code",
   "execution_count": 39,
   "id": "da9bf96d",
   "metadata": {},
   "outputs": [
    {
     "name": "stdout",
     "output_type": "stream",
     "text": [
      "[1, 4, 9, 16, 25, 36, 49, 64, 81, 100]\n",
      "\n",
      "[1, 4, 9, 16, 25, 36, 49, 64, 81, 100]\n",
      "\n",
      "[1, 4, 9, 16, 25, 36, 49, 64, 81, 100]\n",
      "\n"
     ]
    }
   ],
   "source": [
    "#creamos una lista de números enteros que van de 1 a 10\n",
    "nums = [*range(1,11)]\n",
    "\n",
    "lista = [a for a in range(1,101) if a%10 == 0]\n",
    "lista\n",
    "\n",
    "##queremos elevar al cuadrado los valores dentro de nums\n",
    "\n",
    "## Primero usaremos un for\n",
    "\n",
    "cuadrados1 = []\n",
    "for num in nums:\n",
    "    cuadrados1.append(num**2)\n",
    "print(cuadrados1)\n",
    "print() \n",
    "\n",
    "## Ahora usamos list comprehension\n",
    "cuadrados2 = [num**2 for num in nums]\n",
    "print(cuadrados2)\n",
    "print()\n",
    "\n",
    "## O bien podríamos haber hecho\n",
    "cuadrados3 = [x*x for x in range(1,11)]\n",
    "print(cuadrados3)\n",
    "print()"
   ]
  },
  {
   "cell_type": "markdown",
   "id": "f541f72c",
   "metadata": {},
   "source": [
    "##### Readability\n",
    "\n",
    "La compresión de listas permite leer el código de manera más sencilla.\n",
    "\n",
    "Del ejemplo anterior, ¿qué implementación para elevear al cuadrado fue más sencilla de leer? ¿Con o sin list comprehension?"
   ]
  },
  {
   "cell_type": "markdown",
   "id": "022d3b45",
   "metadata": {},
   "source": [
    "#### Creando filtros\n",
    "\n",
    "Esta funcionalidad es realmente potente porque podemos usar expresiones lógicas (if, or, and) para crear filtros."
   ]
  },
  {
   "cell_type": "code",
   "execution_count": 40,
   "id": "6c9cfc74",
   "metadata": {},
   "outputs": [
    {
     "name": "stdout",
     "output_type": "stream",
     "text": [
      "[3, 4, 6, 8, 9, 12, 15, 16, 18]\n"
     ]
    }
   ],
   "source": [
    "# números divisibles por 3 y 4\n",
    "divisibles = [x for x in range(1,20) if x%3 == 0 or x%4 == 0]\n",
    "print(divisibles)"
   ]
  },
  {
   "cell_type": "markdown",
   "id": "03eb5088",
   "metadata": {},
   "source": [
    "#### Productos cartesianos\n",
    "\n",
    "Las Listcomps permiten construir listas a partir del producto *Cartesiano* de dos o más iterables. Los ítems que forman la lista resultante son tuplas formadas por los ítems de cada iterable.\n",
    "\n",
    "La lista resultante tiene una longitud igual al producto de las longitudes de cada iterable."
   ]
  },
  {
   "cell_type": "code",
   "execution_count": 41,
   "id": "695e90f4",
   "metadata": {
    "scrolled": true
   },
   "outputs": [
    {
     "name": "stdout",
     "output_type": "stream",
     "text": [
      "[('uno', 'programación'), ('uno', 'digital'), ('uno', 'avanzada'), ('dos', 'programación'), ('dos', 'digital'), ('dos', 'avanzada')]\n"
     ]
    },
    {
     "data": {
      "text/plain": [
       "6"
      ]
     },
     "execution_count": 41,
     "metadata": {},
     "output_type": "execute_result"
    }
   ],
   "source": [
    "nums = [\"uno\", \"dos\"]\n",
    "words = [\"programación\", \"digital\", \"avanzada\"]\n",
    "\n",
    "producto = [(num, word) for num in nums for word in words]\n",
    "print(producto)\n",
    "len(producto)"
   ]
  },
  {
   "cell_type": "code",
   "execution_count": 42,
   "id": "cacd5488",
   "metadata": {},
   "outputs": [],
   "source": [
    "### TO DO: Mediante el uso de for realice un programa que devuelva una lista como la anterior."
   ]
  },
  {
   "cell_type": "markdown",
   "id": "3a3dfa49",
   "metadata": {},
   "source": [
    "##### Creando una lista de listas\n",
    "\n",
    "En ocasiones podríamos querer inicializar una lista con una cierta cantidad de listas anidadas. La listcomps permite hacer esto de una manera muy sencilla utilizando el operador producto *\\**.\n",
    "\n",
    "Veamos un ejemplo donde quisieramos formar una lista con los nombres y apellidos de los y las estudiantes de un curso de UTEC. Supongamos que tenemos 10 estudiantes, entonces hacemos."
   ]
  },
  {
   "cell_type": "code",
   "execution_count": 43,
   "id": "1b51f13d",
   "metadata": {},
   "outputs": [
    {
     "data": {
      "text/plain": [
       "[['_', '_'],\n",
       " ['_', '_'],\n",
       " ['John', 'Constantine'],\n",
       " ['_', '_'],\n",
       " ['_', '_'],\n",
       " ['_', '_'],\n",
       " ['_', '_'],\n",
       " ['_', '_'],\n",
       " ['_', '_'],\n",
       " ['_', '_']]"
      ]
     },
     "execution_count": 43,
     "metadata": {},
     "output_type": "execute_result"
    }
   ],
   "source": [
    "lista = [['_'] * 2 for i in range(10)]\n",
    "\n",
    "\n",
    "#Asignando nombre y apellido en el tercer ítem de la lista\n",
    "lista[2][:] = (\"John\", \"Constantine\") #realizamos un \"unpacking\" de la tupla (\"John\", \"Constantine\")\n",
    "lista"
   ]
  },
  {
   "cell_type": "markdown",
   "id": "fb7037f2",
   "metadata": {},
   "source": [
    "<hr style=\"border:1px solid gray\"> </hr>\n",
    "\n",
    "###  <span style='color:#3A40A2 '> Ejercitación </span>"
   ]
  },
  {
   "cell_type": "markdown",
   "id": "8836af68",
   "metadata": {},
   "source": [
    "##### Ejercicio 1\n",
    "\n",
    "Escriba un programa que calcule la suma de todos los enteros de 1 hasta *n*. Esta suma puede ser calculada usando la siguiente fórmula,\n",
    "\n",
    "\\begin{equation*}\n",
    "suma = \\frac {n (n+1)}{2}\n",
    "\\end{equation*}\n",
    "\n",
    "Defina un *n* en su programa."
   ]
  },
  {
   "cell_type": "code",
   "execution_count": 7,
   "id": "a1d4cea7",
   "metadata": {},
   "outputs": [
    {
     "name": "stdout",
     "output_type": "stream",
     "text": [
      "La suma de todos los enteros desde 1 hasta n es de 3\n"
     ]
    }
   ],
   "source": [
    "### Resolución Ejercicio 1\n",
    "### TODO\n",
    "\n",
    "n = 2\n",
    "\n",
    "if n > 1:\n",
    "    def suma(num):\n",
    "        return sum([a for a in range(1,n+1)])\n",
    "\n",
    "    print(f'La suma de todos los enteros desde 1 hasta n es de {suma(n)}')\n",
    "\n",
    "else:\n",
    "    print('Seleccione un n entero positivo mayor a 1')"
   ]
  },
  {
   "cell_type": "markdown",
   "id": "f62a91dd",
   "metadata": {},
   "source": [
    "##### Ejercicio 2\n",
    "\n",
    "Investigue cinco radioisótopos utilizados en un medicina nuclear y forme un diccionario que contegna como *keys* los nombres de los radioisótopos y como *valores* la constante de decaimiento en  $\\lambda \\left[ \\frac{1}{s^-1} \\right]$.\n",
    "\n",
    "Luego debe implementar un programa que lea (puede ser desde el teclado o bien generando una variable) el nombre de un radioisótopo y devolver la constante de decaimiento. En el caso de que el radioisótopo no este en el diccionario, debe devolver un mensaje adecuado."
   ]
  },
  {
   "cell_type": "markdown",
   "id": "b158d7c3",
   "metadata": {},
   "source": [
    "Tabla recuperada de https://www.radiation-dosimetry.org/es/que-es-la-constante-de-descomposicion-definicion/"
   ]
  },
  {
   "attachments": {
    "image.png": {
     "image/png": "[encoded data removed]"
    }
   },
   "cell_type": "markdown",
   "id": "0121dd3e",
   "metadata": {},
   "source": [
    "![image.png](attachment:image.png)"
   ]
  },
  {
   "cell_type": "code",
   "execution_count": 2,
   "id": "02adeed8",
   "metadata": {},
   "outputs": [
    {
     "name": "stdout",
     "output_type": "stream",
     "text": [
      "MENÚ PRINCIPAL\n",
      "Ingerese 1 para consultar una constante de decaimiento.\n",
      "Ingrese 2 para consultar la lista de radioisótopos disponibles.\n",
      "Ingrese otro valor para finalizar el programa.\n",
      "Ingrese su opción: 2\n",
      "Los radioisótopos disponibles son:\n",
      " \n",
      "0. Uranium 238\n",
      "1. Plutonium 239\n",
      "2. Carbon 14\n",
      "3. Radium 226\n",
      "4. Radon 220\n",
      "Ingrese cualquier valor para regresar al Menú Principal: 1\n",
      " \n",
      "  \n",
      "MENÚ PRINCIPAL\n",
      "Ingerese 1 para consultar una constante de decaimiento.\n",
      "Ingrese 2 para consultar la lista de radioisótopos disponibles.\n",
      "Ingrese otro valor para finalizar el programa.\n",
      "Ingrese su opción: 1\n",
      "Ingerese el nombre del isótopo sin comillas o ingrese 0 para regresar al Menú Principal: Uranium 238\n",
      "La constante de decaimiento es de 5e-18 s^-1\n",
      "MENÚ PRINCIPAL\n",
      "Ingerese 1 para consultar una constante de decaimiento.\n",
      "Ingrese 2 para consultar la lista de radioisótopos disponibles.\n",
      "Ingrese otro valor para finalizar el programa.\n",
      "Ingrese su opción: 3\n"
     ]
    }
   ],
   "source": [
    "### Resolución Ejercicio 2\n",
    "### TODO\n",
    "\n",
    "dicc = { 'Uranium 238':5*10**-18, \n",
    "         'Plutonium 239':9.2*10**-13, \n",
    "         'Carbon 14':3.9*10**-12, \n",
    "         'Radium 226': 1.35*10**-11,\n",
    "         'Radon 220': 1.33*10**-2}\n",
    "\n",
    "while True:\n",
    "    print('MENÚ PRINCIPAL')\n",
    "    print('Ingerese 1 para consultar una constante de decaimiento.')\n",
    "    print('Ingrese 2 para consultar la lista de radioisótopos disponibles.')\n",
    "    print('Ingrese otro valor para finalizar el programa.')\n",
    "    opcion = int(input('Ingrese su opción: '))\n",
    "    \n",
    "    if opcion == 1:\n",
    "        while True:\n",
    "            isotopo = str(input('Ingerese el nombre del isótopo sin comillas o ingrese 0 para regresar al Menú Principal: '))\n",
    "            \n",
    "            if isotopo != '0':\n",
    "                try:\n",
    "                    print(f'La constante de decaimiento es de {dicc[isotopo]} s^-1')\n",
    "                    break\n",
    "                except:\n",
    "                    print('Ha ingresado un nombre de isótopo no disponible o incorrecto.')\n",
    "            \n",
    "            else:\n",
    "                break\n",
    "    \n",
    "    elif opcion == 2:\n",
    "        print('Los radioisótopos disponibles son:')\n",
    "        print(' ')\n",
    "        [print(f'{i}. {a}', sep= ' ') for i, a in enumerate(dicc.keys())]\n",
    "        input('Ingrese cualquier valor para regresar al Menú Principal: ')\n",
    "        print(' \\n  ')\n",
    "    \n",
    "    else:\n",
    "        break"
   ]
  },
  {
   "cell_type": "markdown",
   "id": "5f12502b",
   "metadata": {},
   "source": [
    "##### Ejercicio 3\n",
    "\n",
    "Realice un programa que reciba 4 números enteros y los ordene de menor a mayor.\n",
    "\n",
    "No debe utilizar ninguna función *built-in* de python."
   ]
  },
  {
   "cell_type": "code",
   "execution_count": 12,
   "id": "06afe547",
   "metadata": {
    "scrolled": true
   },
   "outputs": [
    {
     "name": "stdout",
     "output_type": "stream",
     "text": [
      "Ingrese el valor entero 1: 24\n",
      "Ingrese el valor entero 2: 3489\n",
      "Ingrese el valor entero 3: 9382\n",
      "Ingrese el valor entero 4: 12\n",
      "[12, 24, 3489, 9382]\n"
     ]
    }
   ],
   "source": [
    "### Resolución Ejercicio 3\n",
    "### TODO\n",
    "\n",
    "valor1 = int(input('Ingrese el valor entero 1: '))\n",
    "valor2 = int(input('Ingrese el valor entero 2: '))\n",
    "valor3 = int(input('Ingrese el valor entero 3: '))\n",
    "valor4 = int(input('Ingrese el valor entero 4: '))\n",
    "\n",
    "valores = [valor1, valor2, valor3, valor4]\n",
    "ordenado = []\n",
    "\n",
    "while True:\n",
    "    contador = 0\n",
    "    for i in valores:\n",
    "        try:\n",
    "            if i<=menor:\n",
    "                menor = i\n",
    "            else:\n",
    "                pass\n",
    "        except:\n",
    "            menor = i\n",
    "            \n",
    "    ordenado.append(menor)\n",
    "    valores.remove(menor)\n",
    "    del menor\n",
    "    \n",
    "    for a in ordenado:\n",
    "        if a not in valores:\n",
    "            contador += 1\n",
    "        \n",
    "    if contador == 4:\n",
    "        break\n",
    "\n",
    "print(ordenado)"
   ]
  },
  {
   "cell_type": "markdown",
   "id": "f5d310e9",
   "metadata": {},
   "source": [
    "##### Ejercicio 4\n",
    "\n",
    "El espectro de luz visible se divide en franjas de colores que se corresponden con longitudes de onda. La siguiente tabala muestra el rango del espectro visible asociado a cada color.\n",
    "\n",
    "Color |longitud de onda (nm) |\n",
    "-----|-----| \n",
    "Violeta |a partir 380 y menor a 450|\n",
    "Azul |a partir de 450 y menor a 495|\n",
    "Verde|a partir de 495 y menor a 570|\n",
    "Amarillo |a partir de 570 y menor a 590|\n",
    "Naranja |a partir de 590 y menor a 620|\n",
    "Rojo |a partir de 620 a 750|\n",
    "\n",
    "Implemente un programa que lea desde el teclado una longitud de onda $\\lambda [nm]$ y devuelva el color correspondiente. En el caso de que el valor no se encuentre dentro del rango, debe devolver un mensaje adecuado."
   ]
  },
  {
   "cell_type": "code",
   "execution_count": 3,
   "id": "e835d0d1",
   "metadata": {},
   "outputs": [
    {
     "name": "stdout",
     "output_type": "stream",
     "text": [
      "Ingrese el valor de longitud de onda en nm: 0\n",
      "La longitud de onda ingresada no corresponde a ningun color disponible\n"
     ]
    }
   ],
   "source": [
    "### Resolución Ejercicio 4\n",
    "### TODO\n",
    "\n",
    "longitud = float(input('Ingrese el valor de longitud de onda en nm: '))\n",
    "\n",
    "if  380 <= longitud < 450:\n",
    "    print('El color es violeta')\n",
    "\n",
    "elif 450 <= longitud < 495:\n",
    "    print('El color es azul')\n",
    "    \n",
    "elif 495 <= longitud < 570:\n",
    "    print('El color es verde')\n",
    "\n",
    "elif 570 <= longitud < 590:\n",
    "    print('El color es amarillo')\n",
    "\n",
    "elif 590 <= longitud < 620:\n",
    "    print('El color es naranja')\n",
    "\n",
    "elif 620 <= longitud <= 750:\n",
    "    print('El color es rojo')\n",
    "\n",
    "else:\n",
    "    print('La longitud de onda ingresada no corresponde a ningun color disponible')"
   ]
  },
  {
   "cell_type": "markdown",
   "id": "8906b939",
   "metadata": {},
   "source": [
    "##### Ejercicio 5\n",
    "\n",
    "Implemente un programa que calcule el área de un circulo a partir del ingreso de un radio (en $[cm]$) por teclado. El programa debe terminar cuando se ingresa una linea en blanco."
   ]
  },
  {
   "cell_type": "code",
   "execution_count": 13,
   "id": "97efd030",
   "metadata": {},
   "outputs": [
    {
     "name": "stdout",
     "output_type": "stream",
     "text": [
      "Ingrese el radio del circulo en centrímetros: 10\n",
      "El área del circulo es  314.16 cm2\n",
      "Ingrese el radio del circulo en centrímetros: fgdg\n"
     ]
    }
   ],
   "source": [
    "### Resolución Ejercicio 5\n",
    "### TODO\n",
    "\n",
    "from math import pi\n",
    "\n",
    "while True:\n",
    "    try:\n",
    "        radio = float(input('Ingrese el radio del circulo en centrímetros: '))\n",
    "        print(f'El área del circulo es {pi*radio**2: .2f} cm2')\n",
    "    except:\n",
    "        break"
   ]
  },
  {
   "cell_type": "markdown",
   "id": "38eb33d8",
   "metadata": {},
   "source": [
    "##### Ejercicio 6\n",
    "\n",
    "Escriba un programa que calcule si un número entero $n$ es primo o no.\n",
    "\n",
    "Un número primo es aquel que es divisible solamente por 1 y por si mismo. Ejemplos de números primos son el 2, 3 y el 5."
   ]
  },
  {
   "cell_type": "code",
   "execution_count": 20,
   "id": "e98dc93c",
   "metadata": {},
   "outputs": [
    {
     "name": "stdout",
     "output_type": "stream",
     "text": [
      "1 es primo\n",
      "2 es primo\n",
      "3 es primo\n",
      "\n",
      "5 es primo\n",
      "\n",
      "7 es primo\n",
      "\n",
      "\n",
      "\n",
      "11 es primo\n",
      "\n",
      "13 es primo\n",
      "\n",
      "\n",
      "\n",
      "17 es primo\n",
      "\n",
      "19 es primo\n",
      "\n",
      "\n",
      "\n",
      "23 es primo\n",
      "\n",
      "\n",
      "\n",
      "\n",
      "\n",
      "29 es primo\n",
      "\n",
      "31 es primo\n",
      "\n",
      "\n",
      "\n",
      "\n",
      "\n",
      "37 es primo\n",
      "\n",
      "\n",
      "\n",
      "41 es primo\n",
      "\n",
      "43 es primo\n",
      "\n",
      "\n",
      "\n",
      "47 es primo\n",
      "\n",
      "\n",
      "\n",
      "\n",
      "\n",
      "53 es primo\n",
      "\n",
      "\n",
      "\n",
      "\n",
      "\n",
      "59 es primo\n",
      "\n",
      "61 es primo\n",
      "\n",
      "\n",
      "\n",
      "\n",
      "\n",
      "67 es primo\n",
      "\n",
      "\n",
      "\n",
      "71 es primo\n",
      "\n",
      "73 es primo\n",
      "\n",
      "\n",
      "\n",
      "\n",
      "\n",
      "79 es primo\n",
      "\n",
      "\n",
      "\n",
      "83 es primo\n",
      "\n",
      "\n",
      "\n",
      "\n",
      "\n",
      "89 es primo\n",
      "\n",
      "\n",
      "\n",
      "\n",
      "\n",
      "\n",
      "\n",
      "97 es primo\n",
      "\n",
      "\n"
     ]
    }
   ],
   "source": [
    "### Resolución Ejercicio 6\n",
    "### TODO\n",
    "\n",
    "def primo(n):\n",
    "    for i in range(1,n+1):\n",
    "        if n%i == 0:\n",
    "            if i == 1 or i == n:\n",
    "                pass\n",
    "            else:\n",
    "                #return f'{n} no es primo'\n",
    "                return \"\"\n",
    "            \n",
    "    return f'{n} es primo'\n",
    "\n",
    "for i in range(1,100):\n",
    "    print(primo(i))"
   ]
  },
  {
   "cell_type": "markdown",
   "id": "144b6750",
   "metadata": {},
   "source": [
    "##### Ejercicio 7\n",
    "\n",
    "Escriba un programa que a partir de una lista de palabras genera una segunda lista sin elementos repetidos. La nueva lista debe mantener el orden de la lista original.\n",
    "\n",
    "Por ejemplo,\n",
    "\n",
    "```Python\n",
    "listaOriginal = [\"uno\", \"dos\", \"tres\", \"dos\",\"tres\",\"cuatro\"]\n",
    "\n",
    "### \n",
    "#... implementación ...\n",
    "###\n",
    "\n",
    "listaNueva = [\"uno\",\"dos\",\"tres\",\"cuatro\"]\n",
    "```\n",
    "\n",
    "Nota: No utilice funciones *built-in* de Pytohn. Implemente lo anterior a su manera."
   ]
  },
  {
   "cell_type": "code",
   "execution_count": 25,
   "id": "fd0d06df",
   "metadata": {},
   "outputs": [],
   "source": [
    "### Resolución Ejercicio 7\n",
    "### TODO\n",
    "\n",
    "def filtroDePalabras(lista):\n",
    "    \n",
    "    listaSinRepetir = []\n",
    "    for i in lista:\n",
    "            if i not in listaSinRepetir:\n",
    "                listaSinRepetir.append(i)\n",
    "                \n",
    "    return listaSinRepetir"
   ]
  },
  {
   "cell_type": "code",
   "execution_count": 26,
   "id": "cf878a0e",
   "metadata": {},
   "outputs": [
    {
     "name": "stdout",
     "output_type": "stream",
     "text": [
      "['uno', 'dos', 'tres', 'cuatro']\n"
     ]
    }
   ],
   "source": [
    "listaOriginal = [\"uno\", \"dos\", \"tres\", \"dos\",\"tres\",\"cuatro\"]\n",
    "print(filtroDePalabras(listaOriginal))"
   ]
  },
  {
   "cell_type": "markdown",
   "id": "bc76c6a8",
   "metadata": {},
   "source": [
    "##### Ejercicio 8\n",
    "\n",
    "Implemente un programa que chequee si un diccionario esta vacío o no."
   ]
  },
  {
   "cell_type": "code",
   "execution_count": 4,
   "id": "f2b6d83b",
   "metadata": {},
   "outputs": [
    {
     "name": "stdout",
     "output_type": "stream",
     "text": [
      "El diccionario se encuentra vacío\n"
     ]
    }
   ],
   "source": [
    "### Resolución Ejercicio 8\n",
    "### TODO\n",
    "\n",
    "dicc = {}\n",
    "\n",
    "def comprobar(book):\n",
    "    if len(book) == 0:\n",
    "        print('El diccionario se encuentra vacío')\n",
    "    else:\n",
    "        print('El diccionario no se encuentra vacío')\n",
    "\n",
    "comprobar(dicc)"
   ]
  },
  {
   "cell_type": "markdown",
   "id": "ffc8cb5c",
   "metadata": {},
   "source": [
    "<hr style=\"border:1px solid gray\"> </hr>\n",
    "\n",
    "###  <span style='color:#3A40A2 '>FIN</span>\n",
    "\n",
    "Aquí culmina la primera parte del Módulo 2 de PDA.\n",
    "\n",
    "Se recomienda que se practiquen los temas aquí vistos por su propia cuenta."
   ]
  }
 ],
 "metadata": {
  "kernelspec": {
   "display_name": "Python 3 (ipykernel)",
   "language": "python",
   "name": "python3"
  },
  "language_info": {
   "codemirror_mode": {
    "name": "ipython",
    "version": 3
   },
   "file_extension": ".py",
   "mimetype": "text/x-python",
   "name": "python",
   "nbconvert_exporter": "python",
   "pygments_lexer": "ipython3",
   "version": "3.9.7"
  }
 },
 "nbformat": 4,
 "nbformat_minor": 5
}
